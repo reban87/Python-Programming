{
  "nbformat": 4,
  "nbformat_minor": 0,
  "metadata": {
    "colab": {
      "name": "Lists.ipynb",
      "provenance": [],
      "toc_visible": true,
      "authorship_tag": "ABX9TyOnEGI37mrHLoGRVR7+FS+z",
      "include_colab_link": true
    },
    "kernelspec": {
      "name": "python3",
      "display_name": "Python 3"
    },
    "language_info": {
      "name": "python"
    }
  },
  "cells": [
    {
      "cell_type": "markdown",
      "metadata": {
        "id": "view-in-github",
        "colab_type": "text"
      },
      "source": [
        "<a href=\"https://colab.research.google.com/github/reban87/Python-Programming/blob/main/Intermediate%20Python/List/Lists.ipynb\" target=\"_parent\"><img src=\"https://colab.research.google.com/assets/colab-badge.svg\" alt=\"Open In Colab\"/></a>"
      ]
    },
    {
      "cell_type": "markdown",
      "source": [
        "#### Common Operations"
      ],
      "metadata": {
        "id": "nA3EOX9pCRMK"
      }
    },
    {
      "cell_type": "markdown",
      "source": [
        "Creation / Initialization"
      ],
      "metadata": {
        "id": "Mzr8bo7UCVZ7"
      }
    },
    {
      "cell_type": "code",
      "execution_count": 5,
      "metadata": {
        "colab": {
          "base_uri": "https://localhost:8080/"
        },
        "id": "WZJQPV4mCMvV",
        "outputId": "d4188bcb-f509-49ec-bc74-4a6111f3fee4"
      },
      "outputs": [
        {
          "output_type": "execute_result",
          "data": {
            "text/plain": [
              "[1, 2, 3, 4]"
            ]
          },
          "metadata": {},
          "execution_count": 5
        }
      ],
      "source": [
        "# Elements inside the square brackets\n",
        "#three ways to create / initialize the list\n",
        "\n",
        "# x = [1, 2, 3, 4]\n",
        "# x = list()\n",
        "x = []\n",
        "x.append(1)\n",
        "x.append(2)\n",
        "x.append(3)\n",
        "x.append(4)\n",
        "\n",
        "x"
      ]
    },
    {
      "cell_type": "markdown",
      "source": [
        "Element Indexing"
      ],
      "metadata": {
        "id": "GteePAAWD_ke"
      }
    },
    {
      "cell_type": "code",
      "source": [
        "# 2nd last item\n",
        "print(x[-2])  # i.e 3\n",
        "\n",
        "# 2nd item\n",
        "print(x[1])"
      ],
      "metadata": {
        "colab": {
          "base_uri": "https://localhost:8080/"
        },
        "id": "0pOwBbwvCn9Q",
        "outputId": "a55e77b8-ad34-4476-a35d-51505f1eda73"
      },
      "execution_count": 9,
      "outputs": [
        {
          "output_type": "stream",
          "name": "stdout",
          "text": [
            "3\n",
            "2\n"
          ]
        }
      ]
    },
    {
      "cell_type": "markdown",
      "source": [
        "Iterate through list"
      ],
      "metadata": {
        "id": "RX0fdXDMETxw"
      }
    },
    {
      "cell_type": "code",
      "source": [
        "for item in x:\n",
        "  print(item)"
      ],
      "metadata": {
        "colab": {
          "base_uri": "https://localhost:8080/"
        },
        "id": "0tLikrONEGAe",
        "outputId": "79e96c4a-de25-4b05-e57c-54dca12a6269"
      },
      "execution_count": 10,
      "outputs": [
        {
          "output_type": "stream",
          "name": "stdout",
          "text": [
            "1\n",
            "2\n",
            "3\n",
            "4\n"
          ]
        }
      ]
    },
    {
      "cell_type": "markdown",
      "source": [
        "Checking item"
      ],
      "metadata": {
        "id": "DsZvKKZ-EZNx"
      }
    },
    {
      "cell_type": "code",
      "source": [
        "print(5 in x)  # doesn't exist\n",
        "print(4 in x)  # exist"
      ],
      "metadata": {
        "colab": {
          "base_uri": "https://localhost:8080/"
        },
        "id": "vizb8Of0EXsJ",
        "outputId": "3fe78211-5a23-4b1b-f0b5-75a5752352c5"
      },
      "execution_count": 12,
      "outputs": [
        {
          "output_type": "stream",
          "name": "stdout",
          "text": [
            "False\n",
            "True\n"
          ]
        }
      ]
    },
    {
      "cell_type": "markdown",
      "source": [
        "Insert into a specific index"
      ],
      "metadata": {
        "id": "4suEynqFElbc"
      }
    },
    {
      "cell_type": "code",
      "source": [
        "y = [4, 5, 6]\n",
        "\n",
        "y.insert(2,3)     # list.insert(index, value)\n",
        "y.insert(-1,2)\n",
        "y"
      ],
      "metadata": {
        "colab": {
          "base_uri": "https://localhost:8080/"
        },
        "id": "jQQyO0SPEfGC",
        "outputId": "d79e6970-cea7-4a17-b7cc-4e46cbd79d05"
      },
      "execution_count": 14,
      "outputs": [
        {
          "output_type": "execute_result",
          "data": {
            "text/plain": [
              "[4, 5, 3, 2, 6]"
            ]
          },
          "metadata": {},
          "execution_count": 14
        }
      ]
    },
    {
      "cell_type": "markdown",
      "source": [
        "Get last item\n",
        "- list.pop()\n"
      ],
      "metadata": {
        "id": "Y-MsQCt4E4FM"
      }
    },
    {
      "cell_type": "code",
      "source": [
        "y = [5, 6, 7]\n",
        "print(y.pop())        # remove element from last\n",
        "print(y.pop())\n",
        "print(y)"
      ],
      "metadata": {
        "colab": {
          "base_uri": "https://localhost:8080/"
        },
        "id": "m5s4bm4yEwc8",
        "outputId": "8f0fface-947b-4cb7-d10a-0f8db339ed6b"
      },
      "execution_count": 18,
      "outputs": [
        {
          "output_type": "stream",
          "name": "stdout",
          "text": [
            "7\n",
            "6\n",
            "[5]\n"
          ]
        }
      ]
    },
    {
      "cell_type": "markdown",
      "source": [
        "Remove specific item\n",
        "- remove specific item: list.remove(item)\n",
        "- remove all items: list.clear()"
      ],
      "metadata": {
        "id": "969XtVicFToY"
      }
    },
    {
      "cell_type": "code",
      "source": [
        "b = [1, 2, 3, 4]\n",
        "\n",
        "b.remove(2)     # remove specific item\n",
        "print(b)\n",
        "\n",
        "b.clear()\n",
        "print(b)"
      ],
      "metadata": {
        "colab": {
          "base_uri": "https://localhost:8080/"
        },
        "id": "Ru-G7JV4FK6_",
        "outputId": "d03af637-beb2-4658-abca-94200026079a"
      },
      "execution_count": 20,
      "outputs": [
        {
          "output_type": "stream",
          "name": "stdout",
          "text": [
            "[1, 3, 4]\n",
            "[]\n"
          ]
        }
      ]
    },
    {
      "cell_type": "markdown",
      "source": [
        "Reverse, sort the list: inplace\n",
        "- list.reverse()\n",
        "- list.sort()\n",
        "- Note x=list.sorted() returns None as these operations are inplace"
      ],
      "metadata": {
        "id": "56cl1LODFu3a"
      }
    },
    {
      "cell_type": "code",
      "source": [
        "x = [3, 6, 2, 1]\n",
        "\n",
        "x.reverse()\n",
        "print(x)\n",
        "\n",
        "x.sort()\n",
        "print(x)"
      ],
      "metadata": {
        "colab": {
          "base_uri": "https://localhost:8080/"
        },
        "id": "XjhgeH1rFi_h",
        "outputId": "d798669f-656d-4038-c23f-febabd06d44e"
      },
      "execution_count": 22,
      "outputs": [
        {
          "output_type": "stream",
          "name": "stdout",
          "text": [
            "[1, 2, 6, 3]\n",
            "[1, 2, 3, 6]\n"
          ]
        }
      ]
    },
    {
      "cell_type": "markdown",
      "source": [
        "sorting: outplace"
      ],
      "metadata": {
        "id": "bRaAm--THkQ7"
      }
    },
    {
      "cell_type": "code",
      "source": [
        "x = [3, 6, 2, 1]\n",
        "\n",
        "srtd = sorted(x)      # new sorted list\n",
        "print(x == sorted)    # x is not equal to sorted thus will return false"
      ],
      "metadata": {
        "colab": {
          "base_uri": "https://localhost:8080/"
        },
        "id": "cgo_3tz4Hc4C",
        "outputId": "4bf3bf3c-e253-4725-d7ef-c966b6558ae2"
      },
      "execution_count": 25,
      "outputs": [
        {
          "output_type": "stream",
          "name": "stdout",
          "text": [
            "False\n"
          ]
        }
      ]
    },
    {
      "cell_type": "markdown",
      "source": [
        "Extend and Concatenate"
      ],
      "metadata": {
        "id": "oLe2XDfPH_9F"
      }
    },
    {
      "cell_type": "code",
      "source": [
        "l1 = [1, 3, 4]\n",
        "l2 = [4, 5, 6]\n",
        "\n",
        "# l1.extend(l2)\n",
        "# print(l1)\n",
        "\n",
        "l = l1 + l2\n",
        "print(l)"
      ],
      "metadata": {
        "colab": {
          "base_uri": "https://localhost:8080/"
        },
        "id": "Aa1Sias7H0qE",
        "outputId": "2eea2321-ea49-4a65-accc-13132b7eec31"
      },
      "execution_count": 31,
      "outputs": [
        {
          "output_type": "stream",
          "name": "stdout",
          "text": [
            "[1, 3, 4, 4, 5, 6]\n"
          ]
        }
      ]
    },
    {
      "cell_type": "markdown",
      "source": [
        "Slicing\n",
        "- list[start:end] Note that end element is not included\n",
        "- list[start:] Start index el to last element\n",
        "- list[start:-nth] Start index to nth+1 last element\n",
        "- list[:-nth] Begining to nth+1 indexed last element\n",
        "- list[::n] Every element with index multiple of n upto last element\n",
        "- list[::1] Reverse"
      ],
      "metadata": {
        "id": "7lnKFFzxItKg"
      }
    },
    {
      "cell_type": "code",
      "source": [
        "l1 = [1, 2, 3, 4, 5, 6, 7, 8, 9]\n",
        "\n",
        "print(l1[0:2])    #1st and 2nd\n",
        "print(l1[:-2])    # upto last 2\n",
        "print(l1[::2])    # from start with gap of 2\n"
      ],
      "metadata": {
        "colab": {
          "base_uri": "https://localhost:8080/"
        },
        "id": "Wgq-VmqoIN1l",
        "outputId": "687201c7-958a-458e-f31b-a8331e927d0b"
      },
      "execution_count": 35,
      "outputs": [
        {
          "output_type": "stream",
          "name": "stdout",
          "text": [
            "[1, 2]\n",
            "[1, 2, 3, 4, 5, 6, 7]\n",
            "[1, 3, 5, 7, 9]\n"
          ]
        }
      ]
    },
    {
      "cell_type": "markdown",
      "source": [
        "List copy\n",
        "- list.copy()\n",
        "- new_list = list[:]"
      ],
      "metadata": {
        "id": "74yPAoPkLN2H"
      }
    },
    {
      "cell_type": "code",
      "source": [
        "x = [1, 3, 5, 7]\n",
        "\n",
        "# copy of x\n",
        "y = x.copy()\n",
        "print(y)\n",
        "\n",
        "z = x[:]\n",
        "print(z)\n",
        "\n",
        "# if x is modified, does y changes? NO\n",
        "\n",
        "x.append(9)\n",
        "print(x)\n",
        "\n",
        "print(y)"
      ],
      "metadata": {
        "colab": {
          "base_uri": "https://localhost:8080/"
        },
        "id": "qt3cbsY_JclQ",
        "outputId": "eb77c639-675a-466b-be3c-ec7b9855aec1"
      },
      "execution_count": 40,
      "outputs": [
        {
          "output_type": "stream",
          "name": "stdout",
          "text": [
            "[1, 3, 5, 7]\n",
            "[1, 3, 5, 7]\n",
            "[1, 3, 5, 7, 9]\n",
            "[1, 3, 5, 7]\n"
          ]
        }
      ]
    },
    {
      "cell_type": "markdown",
      "source": [
        "List Comprehension / one liner"
      ],
      "metadata": {
        "id": "0ZiJzlIeL1kG"
      }
    },
    {
      "cell_type": "code",
      "source": [
        "x = [1, 2, 3]\n",
        "\n",
        "sq_x = [i*i for i in x]\n",
        "print(sq_x)"
      ],
      "metadata": {
        "colab": {
          "base_uri": "https://localhost:8080/"
        },
        "id": "T4FYtQGALfFm",
        "outputId": "ecb1852f-19df-4317-8c81-c5bd11587b1f"
      },
      "execution_count": 41,
      "outputs": [
        {
          "output_type": "stream",
          "name": "stdout",
          "text": [
            "[1, 4, 9]\n"
          ]
        }
      ]
    },
    {
      "cell_type": "markdown",
      "source": [
        "Common exception\n",
        "- index error\n",
        "- value error"
      ],
      "metadata": {
        "id": "FJdJcttfMG4N"
      }
    },
    {
      "cell_type": "code",
      "source": [
        "t = [1, 2, 3, 4]\n",
        "try:\n",
        "  t[100]\n",
        "except IndexError as e:\n",
        "  print(e)\n"
      ],
      "metadata": {
        "colab": {
          "base_uri": "https://localhost:8080/"
        },
        "id": "3-9RtSUKMBHW",
        "outputId": "5bf8c252-60ff-4d38-9328-4987cb9f2878"
      },
      "execution_count": 42,
      "outputs": [
        {
          "output_type": "stream",
          "name": "stdout",
          "text": [
            "list index out of range\n"
          ]
        }
      ]
    },
    {
      "cell_type": "code",
      "source": [
        "try:\n",
        "  t.remove(100)\n",
        "except ValueError as e:\n",
        "  print(e)"
      ],
      "metadata": {
        "colab": {
          "base_uri": "https://localhost:8080/"
        },
        "id": "k8KMIzVqMV5F",
        "outputId": "077827f8-4aa5-4c29-d5db-ebd7bd6f03b1"
      },
      "execution_count": 43,
      "outputs": [
        {
          "output_type": "stream",
          "name": "stdout",
          "text": [
            "list.remove(x): x not in list\n"
          ]
        }
      ]
    },
    {
      "cell_type": "code",
      "source": [
        ""
      ],
      "metadata": {
        "id": "GLUmDcpUMgzF"
      },
      "execution_count": null,
      "outputs": []
    }
  ]
}