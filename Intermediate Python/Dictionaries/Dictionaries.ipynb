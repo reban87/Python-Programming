{
  "nbformat": 4,
  "nbformat_minor": 0,
  "metadata": {
    "colab": {
      "name": "Dictionaries.ipynb",
      "provenance": [],
      "toc_visible": true,
      "authorship_tag": "ABX9TyPIENO+4fscTQ4vbanEDSQb",
      "include_colab_link": true
    },
    "kernelspec": {
      "name": "python3",
      "display_name": "Python 3"
    },
    "language_info": {
      "name": "python"
    }
  },
  "cells": [
    {
      "cell_type": "markdown",
      "metadata": {
        "id": "view-in-github",
        "colab_type": "text"
      },
      "source": [
        "<a href=\"https://colab.research.google.com/github/reban87/Python-Programming/blob/main/Intermediate%20Python/Dictionaries/Dictionaries.ipynb\" target=\"_parent\"><img src=\"https://colab.research.google.com/assets/colab-badge.svg\" alt=\"Open In Colab\"/></a>"
      ]
    },
    {
      "cell_type": "markdown",
      "source": [
        "### **Dictionary**\n",
        "- Mutable\n",
        "- Unordered\n",
        "- Collection of key value pairs"
      ],
      "metadata": {
        "id": "awxTH4_rfPCu"
      }
    },
    {
      "cell_type": "markdown",
      "source": [
        "#### **Basic Operations**\n"
      ],
      "metadata": {
        "id": "CdJ7eI-ufeD7"
      }
    },
    {
      "cell_type": "markdown",
      "source": [
        "##### Creation / Initialization\n",
        "\n",
        "- With curley braces, each item(key and value separated by columns) separated by comma.\n",
        "- With dict(key1=value1, key2=value2, ...)"
      ],
      "metadata": {
        "id": "ApNroitRfwac"
      }
    },
    {
      "cell_type": "code",
      "execution_count": 6,
      "metadata": {
        "colab": {
          "base_uri": "https://localhost:8080/"
        },
        "id": "f9237317epVY",
        "outputId": "666b33b3-365f-46f0-f968-731f868b8870"
      },
      "outputs": [
        {
          "output_type": "stream",
          "name": "stdout",
          "text": [
            "{'key1': 'value1', 'key2': 'value2'}\n",
            "{'name': 'key2', 'age': 'value2'}\n"
          ]
        }
      ],
      "source": [
        "d1 = {\n",
        "    \"key1\": \"value1\",\n",
        "    \"key2\": \"value2\"\n",
        "}\n",
        "print(d1)\n",
        "\n",
        "d2 = dict(name = \"key2\", age = \"value2\")\n",
        "print(d2)\n",
        "\n",
        "d3 = {} # empty initilaizaton"
      ]
    },
    {
      "cell_type": "markdown",
      "source": [
        "##### Accessing Values\n",
        "- dict[key]"
      ],
      "metadata": {
        "id": "IjI3Dlh-hBDn"
      }
    },
    {
      "cell_type": "code",
      "source": [
        "d = {\"name\": \"Aryal\",\n",
        "     \"age\": 27}\n",
        "\n",
        "d[\"name\"]"
      ],
      "metadata": {
        "colab": {
          "base_uri": "https://localhost:8080/",
          "height": 35
        },
        "id": "zSGuVlIHgE_2",
        "outputId": "7fe5270a-dd7c-4843-dc29-1d15f8e4334f"
      },
      "execution_count": 7,
      "outputs": [
        {
          "output_type": "execute_result",
          "data": {
            "text/plain": [
              "'Aryal'"
            ],
            "application/vnd.google.colaboratory.intrinsic+json": {
              "type": "string"
            }
          },
          "metadata": {},
          "execution_count": 7
        }
      ]
    },
    {
      "cell_type": "markdown",
      "source": [
        "##### Adding Key Val\n",
        "- dict [\"key\"] = value\n",
        "- if key already exists then value gets updated"
      ],
      "metadata": {
        "id": "IK9mzVFLhVjW"
      }
    },
    {
      "cell_type": "code",
      "source": [
        "d = {\"name\": \"Aryal\", \"age\": 27}\n",
        "d[\"email\"] = \"aryal@example.com\"\n",
        "d[\"age\"] = 28             #updated\n",
        "\n",
        "print(d)\n",
        "    "
      ],
      "metadata": {
        "colab": {
          "base_uri": "https://localhost:8080/"
        },
        "id": "TUa_7B8khTeA",
        "outputId": "9ce9fd0c-6ec1-4f6d-9c83-dd0d39215c03"
      },
      "execution_count": 8,
      "outputs": [
        {
          "output_type": "stream",
          "name": "stdout",
          "text": [
            "{'name': 'Aryal', 'age': 28, 'email': 'aryal@example.com'}\n"
          ]
        }
      ]
    },
    {
      "cell_type": "markdown",
      "source": [
        "##### Deletion\n",
        "- del dict[\"key\"]\n",
        "- dict.pop(\"key\") -> inplace\n",
        "- dict.popitem() remove last item -> inplace"
      ],
      "metadata": {
        "id": "wwlW-Zz2iU__"
      }
    },
    {
      "cell_type": "code",
      "source": [
        "d = {\"name\": \"Aryal\", \"age\": 28, \"author\": \"Book1\", \"address\": \"Nepal\"}\n",
        "\n",
        "del d[\"name\"]             # removes key along with value\n",
        "print(d)\n",
        "\n",
        "popped = d.pop(\"author\")  #pops out key and return its value\n",
        "print(popped)\n",
        "\n",
        "pop_items = d.popitem()   # pops out and returns the last item\n",
        "print(pop_items)          # the popped items as a tuple     \n",
        "\n",
        "print(d)                  # remaining dict"
      ],
      "metadata": {
        "colab": {
          "base_uri": "https://localhost:8080/"
        },
        "id": "7TSPn30iiGay",
        "outputId": "4f60bce3-75a8-4034-d317-05c5254eaec4"
      },
      "execution_count": 15,
      "outputs": [
        {
          "output_type": "stream",
          "name": "stdout",
          "text": [
            "{'age': 28, 'author': 'Book1', 'address': 'Nepal'}\n",
            "Book1\n",
            "('address', 'Nepal')\n",
            "{'age': 28}\n"
          ]
        }
      ]
    },
    {
      "cell_type": "markdown",
      "source": [
        "##### Get keys and items\n",
        "- keys: dict.keys()\n",
        "- values: dict.values()\n",
        "- Return type as a List\n",
        "\n"
      ],
      "metadata": {
        "id": "jPZqV9RikRQp"
      }
    },
    {
      "cell_type": "code",
      "source": [
        "x = {\"key1\": \"value1\", \"key2\": \"value2\", \"key3\": \"value3\"}\n",
        "print(x.keys())             # returns a list\n",
        "print(x.values())           # returns a list\n",
        "for key, val in x.items():  # returns keys and values\n",
        "  print(key,val)\n",
        "\n"
      ],
      "metadata": {
        "colab": {
          "base_uri": "https://localhost:8080/"
        },
        "id": "snNLYFTci3oQ",
        "outputId": "dc4f7468-4e8d-4630-9466-e840543ee150"
      },
      "execution_count": 24,
      "outputs": [
        {
          "output_type": "stream",
          "name": "stdout",
          "text": [
            "dict_keys(['key1', 'key2', 'key3'])\n",
            "dict_values(['value1', 'value2', 'value3'])\n",
            "key1 value1\n",
            "key2 value2\n",
            "key3 value3\n"
          ]
        }
      ]
    },
    {
      "cell_type": "markdown",
      "source": [
        "##### Checking keys, items\n",
        "- check for keys: \"key\" in dict.keys()\n",
        "- check for values: \"values\" in dict.values()"
      ],
      "metadata": {
        "id": "UE_1uzSnlomq"
      }
    },
    {
      "cell_type": "code",
      "source": [
        "x = {\"name\": \"aryal\", \"age\": 28}\n",
        "\n",
        "if \"name\" in x.keys():\n",
        "  print(\"name exist\")\n",
        "\n",
        "if 28 in x.values():\n",
        "  print(\"age exist\")\n",
        "\n",
        "print(x)\n"
      ],
      "metadata": {
        "colab": {
          "base_uri": "https://localhost:8080/"
        },
        "id": "v2LuY31jk2Hf",
        "outputId": "9fff58e3-8749-4748-99a3-d2c5a9cbf8da"
      },
      "execution_count": 32,
      "outputs": [
        {
          "output_type": "stream",
          "name": "stdout",
          "text": [
            "name exist\n",
            "age exist\n",
            "{'name': 'aryal', 'age': 28}\n"
          ]
        }
      ]
    },
    {
      "cell_type": "markdown",
      "source": [
        "##### Copy the dictionary\n",
        "- dict_cpy = dict.copy() or\n",
        "- dict_cpy = dict(my_dict)"
      ],
      "metadata": {
        "id": "xErvvM0_m8KN"
      }
    },
    {
      "cell_type": "code",
      "source": [
        "x= {'a': 1, 'b': 2, 'c': 3 }\n",
        "x_cpy = x.copy()\n",
        "\n",
        "print(\"original\",x)\n",
        "print(\"copied\",x_cpy)\n",
        "\n",
        "x_cpy['d'] = 4        # added an item to x_cpy\n",
        "print(\"after adding\", x_cpy)\n",
        "\n",
        "print(x)              # original dict is unmodified"
      ],
      "metadata": {
        "colab": {
          "base_uri": "https://localhost:8080/"
        },
        "id": "KqJteQ3VmPJo",
        "outputId": "bbc049f4-22c5-47d8-fe46-e14c1548cfdc"
      },
      "execution_count": 37,
      "outputs": [
        {
          "output_type": "stream",
          "name": "stdout",
          "text": [
            "original {'a': 1, 'b': 2, 'c': 3}\n",
            "copied {'a': 1, 'b': 2, 'c': 3}\n",
            "after adding {'a': 1, 'b': 2, 'c': 3, 'd': 4}\n",
            "{'a': 1, 'b': 2, 'c': 3}\n"
          ]
        }
      ]
    },
    {
      "cell_type": "markdown",
      "source": [
        "##### Update and merge two dictionary\n",
        "- update: dict1.update(dict2) , then dict1 gets updated\n",
        "- merge: {dict1, dict2}"
      ],
      "metadata": {
        "id": "4qH7uFLrq6gg"
      }
    },
    {
      "cell_type": "code",
      "source": [
        "d1 = {'a': 1, 'b': 2, 'c': 3}\n",
        "d2 = {'a': 4, 'd': 5, 'e': 6}\n",
        "\n",
        "d1.update(d2)         # updated the value of a\n",
        "print(d1) \n",
        "\n",
        "merged = {**d1, **d2} # if not added ** error occurs: unhashable type: 'dict'\n",
        "print(merged)"
      ],
      "metadata": {
        "colab": {
          "base_uri": "https://localhost:8080/"
        },
        "id": "w3cBFEmNpLdZ",
        "outputId": "2a595b83-50c1-4fec-ade4-4cfe3cf2a8dc"
      },
      "execution_count": 43,
      "outputs": [
        {
          "output_type": "stream",
          "name": "stdout",
          "text": [
            "{'a': 4, 'b': 2, 'c': 3, 'd': 5, 'e': 6}\n",
            "{'a': 4, 'b': 2, 'c': 3, 'd': 5, 'e': 6}\n"
          ]
        }
      ]
    },
    {
      "cell_type": "markdown",
      "source": [
        "##### Sub type creation\n",
        "- Tuple as a key i.e. x = (1,2) d[x] = values\n",
        "- However lists cannot be used as a key cause the key is mutable.\n",
        "- Mutable types cannot be used as a key."
      ],
      "metadata": {
        "id": "Yq9D0Aj_slks"
      }
    },
    {
      "cell_type": "code",
      "source": [
        "# as a tuple\n",
        "t_key = (1, 2)\n",
        "d_sum = {t_key: 3}\n",
        "print(d_sum)"
      ],
      "metadata": {
        "colab": {
          "base_uri": "https://localhost:8080/"
        },
        "id": "poYbgVkGrjP_",
        "outputId": "dedfce12-d407-4cb5-816d-fccfdfcff1e9"
      },
      "execution_count": 44,
      "outputs": [
        {
          "output_type": "stream",
          "name": "stdout",
          "text": [
            "{(1, 2): 3}\n"
          ]
        }
      ]
    },
    {
      "cell_type": "markdown",
      "source": [
        "#### Common Exceptions"
      ],
      "metadata": {
        "id": "M5P-mDKWtKA9"
      }
    },
    {
      "cell_type": "markdown",
      "source": [
        "##### Key Error\n",
        "- occurs when trying to access non existing key"
      ],
      "metadata": {
        "id": "a61VKSg-tSD9"
      }
    },
    {
      "cell_type": "code",
      "source": [
        "x = {\"name\": \"Aryal\", \"age\": 30}\n",
        "\n",
        "try:\n",
        "  x[\"last_name\"]\n",
        "except Exception as e:\n",
        "  print(e.__class__)"
      ],
      "metadata": {
        "colab": {
          "base_uri": "https://localhost:8080/"
        },
        "id": "ajfsjH1VtCAV",
        "outputId": "757c6c97-009d-44ad-84cb-1bb0176d2353"
      },
      "execution_count": 47,
      "outputs": [
        {
          "output_type": "stream",
          "name": "stdout",
          "text": [
            "<class 'KeyError'>\n"
          ]
        }
      ]
    },
    {
      "cell_type": "markdown",
      "source": [
        "##### TypeError\n",
        "- When key is of unhashable type, means as a list"
      ],
      "metadata": {
        "id": "fTJIJ1OGtsiG"
      }
    },
    {
      "cell_type": "code",
      "source": [
        "# as a list -> Exception: TypeError\n",
        "l_key = (1,2)\n",
        "l1_key = [1,2]\n",
        "\n",
        "try: \n",
        "  # d_sum = {l_key: 3}        # its a tuple\n",
        "  d1_sum = {l1_key: 3}        # error due to list  \n",
        "\n",
        "  # print(d_sum)\n",
        "  print(d1_sum)\n",
        "\n",
        "except Exception as e:\n",
        "  print(e.__class__)"
      ],
      "metadata": {
        "colab": {
          "base_uri": "https://localhost:8080/"
        },
        "id": "2E7tO9dPtko-",
        "outputId": "ac089eb6-db96-4823-8feb-bdb8278c015a"
      },
      "execution_count": 53,
      "outputs": [
        {
          "output_type": "stream",
          "name": "stdout",
          "text": [
            "<class 'TypeError'>\n"
          ]
        }
      ]
    },
    {
      "cell_type": "code",
      "source": [
        ""
      ],
      "metadata": {
        "id": "NBqK0KSUuC7o"
      },
      "execution_count": null,
      "outputs": []
    }
  ]
}