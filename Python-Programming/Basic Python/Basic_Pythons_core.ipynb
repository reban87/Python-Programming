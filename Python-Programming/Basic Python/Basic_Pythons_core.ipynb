{
  "nbformat": 4,
  "nbformat_minor": 0,
  "metadata": {
    "colab": {
      "name": "Basic Pythons core.ipynb",
      "provenance": [],
      "collapsed_sections": [
        "c7-zMfAVSzIQ",
        "ZAktE9n_SJq5",
        "CaKArlTnVczI",
        "HaD4YhkRWFsr",
        "7UFu1fQtbtGl",
        "TXj6HU2LcGLG",
        "g2tabdxkftvA",
        "LvL2sNX3gHCt"
      ],
      "toc_visible": true,
      "authorship_tag": "ABX9TyN0IsosGfKHYSwW+Nmt6xjV",
      "include_colab_link": true
    },
    "kernelspec": {
      "name": "python3",
      "display_name": "Python 3"
    },
    "language_info": {
      "name": "python"
    }
  },
  "cells": [
    {
      "cell_type": "markdown",
      "metadata": {
        "id": "view-in-github",
        "colab_type": "text"
      },
      "source": [
        "<a href=\"https://colab.research.google.com/github/reban87/Python-Programming/blob/main/Python-Programming/Basic%20Python/Basic_Pythons_core.ipynb\" target=\"_parent\"><img src=\"https://colab.research.google.com/assets/colab-badge.svg\" alt=\"Open In Colab\"/></a>"
      ]
    },
    {
      "cell_type": "markdown",
      "source": [
        "## Variables in Python"
      ],
      "metadata": {
        "id": "c7-zMfAVSzIQ"
      }
    },
    {
      "cell_type": "code",
      "source": [
        "x=3\n",
        "print(type(x))"
      ],
      "metadata": {
        "colab": {
          "base_uri": "https://localhost:8080/"
        },
        "id": "ZpI_i4w8Oi_B",
        "outputId": "9f15ad7b-943c-4246-e35e-081ad2d196b6"
      },
      "execution_count": null,
      "outputs": [
        {
          "output_type": "stream",
          "name": "stdout",
          "text": [
            "<class 'int'>\n"
          ]
        }
      ]
    },
    {
      "cell_type": "code",
      "source": [
        "print(type(str(x)))"
      ],
      "metadata": {
        "colab": {
          "base_uri": "https://localhost:8080/"
        },
        "id": "hAPBhjtgO5Fw",
        "outputId": "8f3674cc-263c-43d0-8cd7-61f43594322c"
      },
      "execution_count": null,
      "outputs": [
        {
          "output_type": "stream",
          "name": "stdout",
          "text": [
            "<class 'str'>\n"
          ]
        }
      ]
    },
    {
      "cell_type": "code",
      "source": [
        "print(type(float(x)))"
      ],
      "metadata": {
        "colab": {
          "base_uri": "https://localhost:8080/"
        },
        "id": "JRWgQswPO9Lw",
        "outputId": "30179bc5-92a7-4ba7-87ec-5f4ebd124f6a"
      },
      "execution_count": null,
      "outputs": [
        {
          "output_type": "stream",
          "name": "stdout",
          "text": [
            "<class 'float'>\n"
          ]
        }
      ]
    },
    {
      "cell_type": "code",
      "source": [
        "x=\"Reban\"\n",
        "print(type(x))"
      ],
      "metadata": {
        "colab": {
          "base_uri": "https://localhost:8080/"
        },
        "id": "iybinVDbPEYA",
        "outputId": "db12e7d3-b5e6-481f-a107-62e795bbd18d"
      },
      "execution_count": null,
      "outputs": [
        {
          "output_type": "stream",
          "name": "stdout",
          "text": [
            "<class 'str'>\n"
          ]
        }
      ]
    },
    {
      "cell_type": "code",
      "source": [
        "a=4\n",
        "A=5\n",
        "print(a,A)\n"
      ],
      "metadata": {
        "colab": {
          "base_uri": "https://localhost:8080/"
        },
        "id": "6uELfwoqPLGP",
        "outputId": "72b905d7-a61f-4c6e-f507-7385ee1ea559"
      },
      "execution_count": null,
      "outputs": [
        {
          "output_type": "stream",
          "name": "stdout",
          "text": [
            "4 5\n"
          ]
        }
      ]
    },
    {
      "cell_type": "code",
      "source": [
        "#camel case\n",
        "myVariableName\n",
        "\n",
        "#pascal case\n",
        "MyVariableName\n",
        "\n",
        "#Snake case\n",
        "my_variable_name"
      ],
      "metadata": {
        "id": "l9IBORuvPSkA"
      },
      "execution_count": null,
      "outputs": []
    },
    {
      "cell_type": "code",
      "source": [
        "x,y,z= \"apple\",\"ball\",\"cat\"\n",
        "print(x,y,z)"
      ],
      "metadata": {
        "colab": {
          "base_uri": "https://localhost:8080/"
        },
        "id": "s7FCPZ9fPqHR",
        "outputId": "400a480e-e941-4e94-be5e-04c7d98a23cd"
      },
      "execution_count": null,
      "outputs": [
        {
          "output_type": "stream",
          "name": "stdout",
          "text": [
            "apple ball cat\n"
          ]
        }
      ]
    },
    {
      "cell_type": "code",
      "source": [
        "fruits=[\"apple\",\"ball\",\"cat\"]\n",
        "x,y,z=fruits\n",
        "print(x)\n",
        "print(y)\n",
        "print(z)\n"
      ],
      "metadata": {
        "colab": {
          "base_uri": "https://localhost:8080/"
        },
        "id": "oS9SoYCPP0X4",
        "outputId": "ee5ef5f3-8ef0-4dd1-8e50-cccc839ff813"
      },
      "execution_count": null,
      "outputs": [
        {
          "output_type": "stream",
          "name": "stdout",
          "text": [
            "apple\n",
            "ball\n",
            "cat\n"
          ]
        }
      ]
    },
    {
      "cell_type": "code",
      "source": [
        "x=\"my\"\n",
        "y=\"name\"\n",
        "z=\"is\"\n",
        "w=\"reban\"\n",
        "print(x+y+z+w)"
      ],
      "metadata": {
        "colab": {
          "base_uri": "https://localhost:8080/"
        },
        "id": "guwAgyRQQEvn",
        "outputId": "a356fd37-3afa-4868-f0e6-5767f0b31df2"
      },
      "execution_count": null,
      "outputs": [
        {
          "output_type": "stream",
          "name": "stdout",
          "text": [
            "mynameisreban\n"
          ]
        }
      ]
    },
    {
      "cell_type": "code",
      "source": [
        "x=5\n",
        "y=10\n",
        "z=x+y\n",
        "print(z)"
      ],
      "metadata": {
        "colab": {
          "base_uri": "https://localhost:8080/"
        },
        "id": "boPBna8BQQEH",
        "outputId": "40fd6aef-396b-4ce7-e404-955886d31cbf"
      },
      "execution_count": null,
      "outputs": [
        {
          "output_type": "stream",
          "name": "stdout",
          "text": [
            "15\n"
          ]
        }
      ]
    },
    {
      "cell_type": "code",
      "source": [
        "print(type(x))"
      ],
      "metadata": {
        "colab": {
          "base_uri": "https://localhost:8080/"
        },
        "id": "7sEV6VVGQW3v",
        "outputId": "a773aa15-d87c-45eb-c145-df7001017683"
      },
      "execution_count": null,
      "outputs": [
        {
          "output_type": "stream",
          "name": "stdout",
          "text": [
            "<class 'int'>\n"
          ]
        }
      ]
    },
    {
      "cell_type": "code",
      "source": [
        "x=str(5)\n",
        "y=\"reban\"\n",
        "print(x+y)"
      ],
      "metadata": {
        "colab": {
          "base_uri": "https://localhost:8080/"
        },
        "id": "0-KD8fX1QZhf",
        "outputId": "0a7b2de5-1711-4b63-890e-e25b8b9bf7aa"
      },
      "execution_count": null,
      "outputs": [
        {
          "output_type": "stream",
          "name": "stdout",
          "text": [
            "5reban\n"
          ]
        }
      ]
    },
    {
      "cell_type": "code",
      "source": [
        "#global variable\n",
        "x=\"welcome\"\n",
        "def myWorld():\n",
        "  print(\"you are\"+x)\n",
        "myWorld()"
      ],
      "metadata": {
        "colab": {
          "base_uri": "https://localhost:8080/"
        },
        "id": "JX4IMqqoQgVX",
        "outputId": "d6021f4c-12bd-4bc2-ee27-54177ae88ea6"
      },
      "execution_count": null,
      "outputs": [
        {
          "output_type": "stream",
          "name": "stdout",
          "text": [
            "you arewelcome\n"
          ]
        }
      ]
    },
    {
      "cell_type": "code",
      "source": [
        "#create a same name as the global variable but in the function itself\n",
        "x=\"awesome\"\n",
        "def function():\n",
        "  x=\"fantastic\"\n",
        "  print(\"python is \"+x)\n",
        "function()  "
      ],
      "metadata": {
        "colab": {
          "base_uri": "https://localhost:8080/"
        },
        "id": "4ac67XDkQ07v",
        "outputId": "7c591966-2750-4e21-a654-7bb7052d973b"
      },
      "execution_count": null,
      "outputs": [
        {
          "output_type": "stream",
          "name": "stdout",
          "text": [
            "python is fantastic\n"
          ]
        }
      ]
    },
    {
      "cell_type": "code",
      "source": [
        "#if global keyword is used then it is of global scope\n",
        "def myfunc():\n",
        "  global x\n",
        "  x= \"fantastic\"\n",
        "myfunc()\n",
        "print(\"python is \"+x)  "
      ],
      "metadata": {
        "colab": {
          "base_uri": "https://localhost:8080/"
        },
        "id": "_rPsp_cFRMOQ",
        "outputId": "b9746660-de49-4bda-bd9a-3f38a585dac8"
      },
      "execution_count": null,
      "outputs": [
        {
          "output_type": "stream",
          "name": "stdout",
          "text": [
            "python is fantastic\n"
          ]
        }
      ]
    },
    {
      "cell_type": "markdown",
      "source": [
        "## Basic python Data Types\n",
        "- numeric: int, float, complex\n",
        "- text type: str\n",
        "- sequence : list, tuples, range\n",
        "- mapping: dict\n",
        "- set types: set, frozen set\n",
        "- boolean type: bool\n",
        "- binary type: bytes, bytearray, memoryview"
      ],
      "metadata": {
        "id": "ZAktE9n_SJq5"
      }
    },
    {
      "cell_type": "code",
      "source": [
        "# to check the type of the data\n",
        "x=5\n",
        "print(type(x))"
      ],
      "metadata": {
        "colab": {
          "base_uri": "https://localhost:8080/"
        },
        "id": "Ym3Yp8YMSrh5",
        "outputId": "180e6562-c423-4f7b-9b76-afb62566613f"
      },
      "execution_count": null,
      "outputs": [
        {
          "output_type": "stream",
          "name": "stdout",
          "text": [
            "<class 'int'>\n"
          ]
        }
      ]
    },
    {
      "cell_type": "code",
      "source": [
        "x=[\"apple\",\"ball\",\"cat\"]\n",
        "print(type(x))"
      ],
      "metadata": {
        "colab": {
          "base_uri": "https://localhost:8080/"
        },
        "id": "NHYeeMNUS-mo",
        "outputId": "61ef7806-fbce-431f-b2ea-d40c2bf61da0"
      },
      "execution_count": null,
      "outputs": [
        {
          "output_type": "stream",
          "name": "stdout",
          "text": [
            "<class 'list'>\n"
          ]
        }
      ]
    },
    {
      "cell_type": "code",
      "source": [
        "x=range(6)\n",
        "print(type(x))\n",
        "print(x)"
      ],
      "metadata": {
        "colab": {
          "base_uri": "https://localhost:8080/"
        },
        "id": "aNo64J2pTGS3",
        "outputId": "f7276be1-e11d-45b5-b212-2000bfe6a337"
      },
      "execution_count": null,
      "outputs": [
        {
          "output_type": "stream",
          "name": "stdout",
          "text": [
            "<class 'range'>\n",
            "range(0, 6)\n"
          ]
        }
      ]
    },
    {
      "cell_type": "code",
      "source": [
        "x={\"name\":\"reban\", \"age\":\"28\"}\n",
        "print(type(x))"
      ],
      "metadata": {
        "colab": {
          "base_uri": "https://localhost:8080/"
        },
        "id": "Lx-Y23ILTKLB",
        "outputId": "8841d3b0-0675-489d-b244-5851d8750596"
      },
      "execution_count": null,
      "outputs": [
        {
          "output_type": "stream",
          "name": "stdout",
          "text": [
            "<class 'dict'>\n"
          ]
        }
      ]
    },
    {
      "cell_type": "code",
      "source": [
        "x=b\"hello\"\n",
        "print(type(x))"
      ],
      "metadata": {
        "colab": {
          "base_uri": "https://localhost:8080/"
        },
        "id": "TjpkpufyTR5Q",
        "outputId": "408531c7-7ab4-422e-aeaa-9fa9fa3e729b"
      },
      "execution_count": null,
      "outputs": [
        {
          "output_type": "stream",
          "name": "stdout",
          "text": [
            "<class 'bytes'>\n"
          ]
        }
      ]
    },
    {
      "cell_type": "code",
      "source": [
        "x=bytearray(5)\n",
        "print(x)"
      ],
      "metadata": {
        "colab": {
          "base_uri": "https://localhost:8080/"
        },
        "id": "efblCo1RTZq_",
        "outputId": "a9cee7f1-3534-4534-ac1b-341a1d87368f"
      },
      "execution_count": null,
      "outputs": [
        {
          "output_type": "stream",
          "name": "stdout",
          "text": [
            "bytearray(b'\\x00\\x00\\x00\\x00\\x00')\n"
          ]
        }
      ]
    },
    {
      "cell_type": "code",
      "source": [
        "#setting up the specific data types\n",
        "x=10\n",
        "print(type(x))\n",
        "\n",
        "print(type(str(x)))"
      ],
      "metadata": {
        "colab": {
          "base_uri": "https://localhost:8080/"
        },
        "id": "GJxG7jx6Tc9_",
        "outputId": "0e4c3515-c5ec-4e3c-ff29-4e0665488e4a"
      },
      "execution_count": null,
      "outputs": [
        {
          "output_type": "stream",
          "name": "stdout",
          "text": [
            "<class 'int'>\n",
            "<class 'str'>\n"
          ]
        }
      ]
    },
    {
      "cell_type": "code",
      "source": [
        "#Random numbers\n",
        "import random\n",
        "print(random.randrange(1,10))"
      ],
      "metadata": {
        "colab": {
          "base_uri": "https://localhost:8080/"
        },
        "id": "z2DSQuDbTx2n",
        "outputId": "82aec58c-add5-4954-a511-632fa09f5513"
      },
      "execution_count": null,
      "outputs": [
        {
          "output_type": "stream",
          "name": "stdout",
          "text": [
            "8\n"
          ]
        }
      ]
    },
    {
      "cell_type": "markdown",
      "source": [
        "## ``random`` methods\n",
        "``random.randint(0,10)`` print random number 0 to 10\n",
        "``random.seed()`` initialize the random number generator"
      ],
      "metadata": {
        "id": "sXFYsGcmUt0f"
      }
    },
    {
      "cell_type": "markdown",
      "source": [
        "## Python Casting \n",
        "Casting in python is therefore done using constructor functions:\n",
        "\n",
        "- int() - constructs an integer number from an integer literal, a float literal (by removing all decimals), or a string literal (providing the string represents a whole number)\n",
        "\n",
        "- float() - constructs a float number from an integer literal, a float literal or a string literal (providing the string represents a float or an integer)\n",
        "\n",
        "- str() - constructs a string from a wide variety of data types, including strings, integer literals and float literals"
      ],
      "metadata": {
        "id": "CaKArlTnVczI"
      }
    },
    {
      "cell_type": "code",
      "source": [
        "#examples\n",
        "x=int(1)\n",
        "y=int(2.1)\n",
        "z=int(\"3\")\n",
        "a=str(1)\n",
        "b=str(\"1\")\n",
        "x,y,z,a,b"
      ],
      "metadata": {
        "colab": {
          "base_uri": "https://localhost:8080/"
        },
        "id": "4mgeW7vXUmrH",
        "outputId": "f505e114-f996-4672-a479-0fb6f3956b42"
      },
      "execution_count": null,
      "outputs": [
        {
          "output_type": "execute_result",
          "data": {
            "text/plain": [
              "(1, 2, 3, '1', '1')"
            ]
          },
          "metadata": {},
          "execution_count": 43
        }
      ]
    },
    {
      "cell_type": "markdown",
      "source": [
        "## Python Strings Basics"
      ],
      "metadata": {
        "id": "HaD4YhkRWFsr"
      }
    },
    {
      "cell_type": "code",
      "source": [
        "print(\"Hello\")\n",
        "print(type(\"hello\"))"
      ],
      "metadata": {
        "colab": {
          "base_uri": "https://localhost:8080/"
        },
        "id": "9sfoTJyxVydv",
        "outputId": "f9067869-21c6-4fb4-ea12-371f730f5157"
      },
      "execution_count": null,
      "outputs": [
        {
          "output_type": "stream",
          "name": "stdout",
          "text": [
            "Hello\n",
            "<class 'str'>\n"
          ]
        }
      ]
    },
    {
      "cell_type": "code",
      "source": [
        "#assign string to variable\n",
        "a=\"apple\"\n",
        "a"
      ],
      "metadata": {
        "colab": {
          "base_uri": "https://localhost:8080/",
          "height": 35
        },
        "id": "8nypOUYYWLzi",
        "outputId": "9028a090-b108-472c-b6a9-6f618d82c7d5"
      },
      "execution_count": null,
      "outputs": [
        {
          "output_type": "execute_result",
          "data": {
            "text/plain": [
              "'apple'"
            ],
            "application/vnd.google.colaboratory.intrinsic+json": {
              "type": "string"
            }
          },
          "metadata": {},
          "execution_count": 46
        }
      ]
    },
    {
      "cell_type": "code",
      "source": [
        "#Multiline strings, we can create multi lines string using \"\"\" \"\"\" quotes\n",
        "\n",
        "a=\"\"\" My name is Rebanta and i live in kalanki\"\"\"\n",
        "print(a)\n"
      ],
      "metadata": {
        "colab": {
          "base_uri": "https://localhost:8080/"
        },
        "id": "VoU079E9WWVG",
        "outputId": "07c4201d-9a19-4df8-df34-2ecdfe01dca7"
      },
      "execution_count": null,
      "outputs": [
        {
          "output_type": "stream",
          "name": "stdout",
          "text": [
            " My name is Rebanta and i live in kalanki\n"
          ]
        }
      ]
    },
    {
      "cell_type": "markdown",
      "source": [
        "Strings are like an array. we can access string using ```square bracket []``` It will return the character of that index of the particular string "
      ],
      "metadata": {
        "id": "vFx3SgUtWzln"
      }
    },
    {
      "cell_type": "code",
      "source": [
        "a=\"Hello world\"\n",
        "print(a[1])"
      ],
      "metadata": {
        "colab": {
          "base_uri": "https://localhost:8080/"
        },
        "id": "VMBH02BlWmcm",
        "outputId": "473cd827-1941-41df-8ea7-ebe8360487b3"
      },
      "execution_count": null,
      "outputs": [
        {
          "output_type": "stream",
          "name": "stdout",
          "text": [
            "e\n"
          ]
        }
      ]
    },
    {
      "cell_type": "markdown",
      "source": [
        "How to loop through a string??"
      ],
      "metadata": {
        "id": "5jqYEPWWXL3d"
      }
    },
    {
      "cell_type": "code",
      "source": [
        "for x in \"banana\":\n",
        "  print(x)"
      ],
      "metadata": {
        "colab": {
          "base_uri": "https://localhost:8080/"
        },
        "id": "27g4kvn2XBBm",
        "outputId": "05d73c08-4f82-45e7-eccb-4f0e53979963"
      },
      "execution_count": null,
      "outputs": [
        {
          "output_type": "stream",
          "name": "stdout",
          "text": [
            "b\n",
            "a\n",
            "n\n",
            "a\n",
            "n\n",
            "a\n"
          ]
        }
      ]
    },
    {
      "cell_type": "markdown",
      "source": [
        "To find the length of the string ``len(a)``"
      ],
      "metadata": {
        "id": "I_Qql7PtXWvO"
      }
    },
    {
      "cell_type": "code",
      "source": [
        "a=\"Rebanta\"\n",
        "print(len(a))"
      ],
      "metadata": {
        "colab": {
          "base_uri": "https://localhost:8080/"
        },
        "id": "GkOW8AQpXSm2",
        "outputId": "a3847b9d-8dfb-45ad-f8bd-44dfa0ac890c"
      },
      "execution_count": null,
      "outputs": [
        {
          "output_type": "stream",
          "name": "stdout",
          "text": [
            "7\n"
          ]
        }
      ]
    },
    {
      "cell_type": "markdown",
      "source": [
        "To check a particular word in string"
      ],
      "metadata": {
        "id": "m7U-bj-4Xiw_"
      }
    },
    {
      "cell_type": "code",
      "source": [
        "txt=\"The best thing is the life is to be free\"\n",
        "print(\"free\"in txt)"
      ],
      "metadata": {
        "colab": {
          "base_uri": "https://localhost:8080/"
        },
        "id": "ns5AZE9vXdF9",
        "outputId": "5ee3d538-0e1e-42cc-9b53-1431bb02beb4"
      },
      "execution_count": null,
      "outputs": [
        {
          "output_type": "stream",
          "name": "stdout",
          "text": [
            "True\n"
          ]
        }
      ]
    },
    {
      "cell_type": "code",
      "source": [
        "#print only if free is present\n",
        "txt=txt=\"The best thing is the life is to be free\"\n",
        "if(\"free\"in txt):\n",
        "  print(\"True\")"
      ],
      "metadata": {
        "colab": {
          "base_uri": "https://localhost:8080/"
        },
        "id": "oaAXlY5gXsG2",
        "outputId": "f6d4b843-cea9-4ff1-f354-6354ddf4df12"
      },
      "execution_count": null,
      "outputs": [
        {
          "output_type": "stream",
          "name": "stdout",
          "text": [
            "True\n"
          ]
        }
      ]
    },
    {
      "cell_type": "code",
      "source": [
        "#print if not \n",
        "txt=txt=\"The best thing is the life is to be free\"\n",
        "if(\"free\" not in txt):\n",
        "  print(\"True\")\n",
        "else:\n",
        "  print(\"false\")  "
      ],
      "metadata": {
        "colab": {
          "base_uri": "https://localhost:8080/"
        },
        "id": "oeOecwt8X5V2",
        "outputId": "644fde4e-32eb-4c14-a6ff-c5a141a3e3e7"
      },
      "execution_count": null,
      "outputs": [
        {
          "output_type": "stream",
          "name": "stdout",
          "text": [
            "false\n"
          ]
        }
      ]
    },
    {
      "cell_type": "markdown",
      "source": [
        "Slicing the strings: you can return the range of characters by using the slice syntax"
      ],
      "metadata": {
        "id": "BvBdWjgKYPuK"
      }
    },
    {
      "cell_type": "code",
      "source": [
        "#get the characters from position 2 to position 5 (not included)\n",
        "b=\"Hello World\"\n",
        "print(b[2:5])"
      ],
      "metadata": {
        "colab": {
          "base_uri": "https://localhost:8080/"
        },
        "id": "AR7yhEhVYDIN",
        "outputId": "0310f9bf-1ab3-4eb9-c9c0-ed53e56a2187"
      },
      "execution_count": null,
      "outputs": [
        {
          "output_type": "stream",
          "name": "stdout",
          "text": [
            "llo\n"
          ]
        }
      ]
    },
    {
      "cell_type": "code",
      "source": [
        "#slice from the start\n",
        "b=\"Hello World\"\n",
        "print(b[:5])"
      ],
      "metadata": {
        "colab": {
          "base_uri": "https://localhost:8080/"
        },
        "id": "eIQd8rnaYgh1",
        "outputId": "7ce70b9c-56b1-4bb3-dfba-548ee0a12c97"
      },
      "execution_count": null,
      "outputs": [
        {
          "output_type": "stream",
          "name": "stdout",
          "text": [
            "Hello\n"
          ]
        }
      ]
    },
    {
      "cell_type": "code",
      "source": [
        "#slice to the end\n",
        "b=\"Hello World\"\n",
        "print(b[2:])"
      ],
      "metadata": {
        "colab": {
          "base_uri": "https://localhost:8080/"
        },
        "id": "1aVGeVxQYqjQ",
        "outputId": "9a1df37d-93b2-40dd-ae49-de8990d8fdab"
      },
      "execution_count": null,
      "outputs": [
        {
          "output_type": "stream",
          "name": "stdout",
          "text": [
            "llo World\n"
          ]
        }
      ]
    },
    {
      "cell_type": "code",
      "source": [
        "#use negative indexes to start the slice from the end of the string\n",
        "b=\"Hello World\"\n",
        "print(b[-5:-2])"
      ],
      "metadata": {
        "colab": {
          "base_uri": "https://localhost:8080/"
        },
        "id": "SS88rEeiYx12",
        "outputId": "197d9ad8-9ee7-4d4c-ff99-f34321e5de78"
      },
      "execution_count": null,
      "outputs": [
        {
          "output_type": "stream",
          "name": "stdout",
          "text": [
            "Wor\n"
          ]
        }
      ]
    },
    {
      "cell_type": "markdown",
      "source": [
        "upper case and lower case in string"
      ],
      "metadata": {
        "id": "jtvsOEvEZPrP"
      }
    },
    {
      "cell_type": "code",
      "source": [
        "#upper case upper()\n",
        "a=\"hello there\"\n",
        "print(a.upper())\n"
      ],
      "metadata": {
        "colab": {
          "base_uri": "https://localhost:8080/"
        },
        "id": "EiwpkFF-ZBpu",
        "outputId": "e7932311-f9a5-45f2-d388-086f00a24d0b"
      },
      "execution_count": null,
      "outputs": [
        {
          "output_type": "stream",
          "name": "stdout",
          "text": [
            "HELLO THERE\n"
          ]
        }
      ]
    },
    {
      "cell_type": "code",
      "source": [
        "#lower case lower()\n",
        "a=\"Hello WORLD\"\n",
        "print(a.lower())"
      ],
      "metadata": {
        "colab": {
          "base_uri": "https://localhost:8080/"
        },
        "id": "m4m9xsJJZWQF",
        "outputId": "f3925208-45e4-44b3-ff6d-24bb5e5dee2e"
      },
      "execution_count": null,
      "outputs": [
        {
          "output_type": "stream",
          "name": "stdout",
          "text": [
            "hello world\n"
          ]
        }
      ]
    },
    {
      "cell_type": "code",
      "source": [
        "# to remove white space\n",
        "a= \"Hello World           \"\n",
        "print(a.strip())"
      ],
      "metadata": {
        "colab": {
          "base_uri": "https://localhost:8080/"
        },
        "id": "lIgZQg1jZpqX",
        "outputId": "ae842929-6a83-4e35-dbd4-d7ddfa7f0f03"
      },
      "execution_count": null,
      "outputs": [
        {
          "output_type": "stream",
          "name": "stdout",
          "text": [
            "Hello World\n"
          ]
        }
      ]
    },
    {
      "cell_type": "markdown",
      "source": [
        "replace the string by method replace()"
      ],
      "metadata": {
        "id": "w3e7Z90maBC6"
      }
    },
    {
      "cell_type": "code",
      "source": [
        "a=\"Hello World\"\n",
        "print(a.replace(\"H\",\"J\"))"
      ],
      "metadata": {
        "colab": {
          "base_uri": "https://localhost:8080/"
        },
        "id": "Ij1ZHZmrZybF",
        "outputId": "5081b32e-74a7-454a-ce16-d9fbc05b2ba9"
      },
      "execution_count": null,
      "outputs": [
        {
          "output_type": "stream",
          "name": "stdout",
          "text": [
            "Jello World\n"
          ]
        }
      ]
    },
    {
      "cell_type": "markdown",
      "source": [
        "split string split() returns a list where the text between the specified separator becomes the list items"
      ],
      "metadata": {
        "id": "NPdE6rLHaUn3"
      }
    },
    {
      "cell_type": "code",
      "source": [
        "a=\"Hello World, i am rebanta aryal, and i live in nepal\"\n",
        "print(a.split(\",\"))"
      ],
      "metadata": {
        "colab": {
          "base_uri": "https://localhost:8080/"
        },
        "id": "WxegMkUBaMbd",
        "outputId": "074ff178-7d0b-429d-e2a0-7099d06f1fd1"
      },
      "execution_count": null,
      "outputs": [
        {
          "output_type": "stream",
          "name": "stdout",
          "text": [
            "['Hello World', ' i am rebanta aryal', ' and i live in nepal']\n"
          ]
        }
      ]
    },
    {
      "cell_type": "markdown",
      "source": [
        "##[String Methods](https://www.w3schools.com/python/python_ref_string.asp)"
      ],
      "metadata": {
        "id": "0FuYVVqUaxv1"
      }
    },
    {
      "cell_type": "markdown",
      "source": [
        "## String Concatenation"
      ],
      "metadata": {
        "id": "7UFu1fQtbtGl"
      }
    },
    {
      "cell_type": "code",
      "source": [
        "#without adding the space\n",
        "a=\"Hello\"\n",
        "b=\"World\"\n",
        "print(a+b)"
      ],
      "metadata": {
        "colab": {
          "base_uri": "https://localhost:8080/"
        },
        "id": "nphdsXcqaijt",
        "outputId": "106df23b-6cd8-4970-cc9f-c16250e0be8c"
      },
      "execution_count": null,
      "outputs": [
        {
          "output_type": "stream",
          "name": "stdout",
          "text": [
            "HelloWorld\n"
          ]
        }
      ]
    },
    {
      "cell_type": "code",
      "source": [
        "#adding space in between the strings\n",
        "a=\"Hello\"\n",
        "b=\"world\"\n",
        "print(a+\" \"+b)"
      ],
      "metadata": {
        "colab": {
          "base_uri": "https://localhost:8080/"
        },
        "id": "i426n7gRbr6s",
        "outputId": "c2fdee93-cac1-4882-ef8a-f29c1f6d6168"
      },
      "execution_count": null,
      "outputs": [
        {
          "output_type": "stream",
          "name": "stdout",
          "text": [
            "Hello world\n"
          ]
        }
      ]
    },
    {
      "cell_type": "markdown",
      "source": [
        "## String Formatting in Python"
      ],
      "metadata": {
        "id": "TXj6HU2LcGLG"
      }
    },
    {
      "cell_type": "code",
      "source": [
        "#we cannot combine string with numbers directly\n",
        "age=15\n",
        "name=\"reban\"\n",
        "text=\"my name is\"+name, i am + age\n",
        "print(text)"
      ],
      "metadata": {
        "colab": {
          "base_uri": "https://localhost:8080/",
          "height": 134
        },
        "id": "qYmuEHEWb961",
        "outputId": "ccfa8032-2411-4784-883f-7fd848455eae"
      },
      "execution_count": null,
      "outputs": [
        {
          "output_type": "error",
          "ename": "SyntaxError",
          "evalue": "ignored",
          "traceback": [
            "\u001b[0;36m  File \u001b[0;32m\"<ipython-input-78-f1b626443f56>\"\u001b[0;36m, line \u001b[0;32m4\u001b[0m\n\u001b[0;31m    text=\"my name is\"+name, i am + age\u001b[0m\n\u001b[0m                               ^\u001b[0m\n\u001b[0;31mSyntaxError\u001b[0m\u001b[0;31m:\u001b[0m invalid syntax\n"
          ]
        }
      ]
    },
    {
      "cell_type": "markdown",
      "source": [
        "But we can combine strings and numbers by using the format() method!\n",
        "\n",
        "The format() method takes the passed arguments, formats them, and places them in the string where the placeholders {} are:"
      ],
      "metadata": {
        "id": "WEeg8ZWRcrep"
      }
    },
    {
      "cell_type": "code",
      "source": [
        "age=36\n",
        "txt=\"my name is john, and i am {}\"\n",
        "print(txt.format(age))"
      ],
      "metadata": {
        "colab": {
          "base_uri": "https://localhost:8080/"
        },
        "id": "GSTSdoI3ceos",
        "outputId": "c6184a7e-bebf-4cfe-b846-f89efb8dd5ad"
      },
      "execution_count": null,
      "outputs": [
        {
          "output_type": "stream",
          "name": "stdout",
          "text": [
            "my name is john, and i am 36\n"
          ]
        }
      ]
    },
    {
      "cell_type": "code",
      "source": [
        "quantity=3\n",
        "item_no=10\n",
        "price=50\n",
        "my_order=\"I want {} pieces of item {} for {} dollers\"\n",
        "print(my_order.format(quantity,item_no,price))"
      ],
      "metadata": {
        "colab": {
          "base_uri": "https://localhost:8080/"
        },
        "id": "FOL088tRc4ZV",
        "outputId": "6ebeb38e-f3f9-436b-c505-312aa5282463"
      },
      "execution_count": null,
      "outputs": [
        {
          "output_type": "stream",
          "name": "stdout",
          "text": [
            "I want 3 pieces of item 10 for 50 dollers\n"
          ]
        }
      ]
    },
    {
      "cell_type": "code",
      "source": [
        "name=\"reban\"\n",
        "address=\"kalanki\"\n",
        "age=\"28\"\n",
        "print(\"People call me {}, and i am {} years old and live in {}\".format(name, age, address))"
      ],
      "metadata": {
        "colab": {
          "base_uri": "https://localhost:8080/"
        },
        "id": "JSqQ_pf_dcld",
        "outputId": "4410df89-a8d9-4f67-eec3-a2faa8c178b3"
      },
      "execution_count": null,
      "outputs": [
        {
          "output_type": "stream",
          "name": "stdout",
          "text": [
            "People call me reban, and i am 28 years old and live in kalanki\n"
          ]
        }
      ]
    },
    {
      "cell_type": "code",
      "source": [
        "# new way of formatting the strings using f-strings\n",
        "name=\"reban\"\n",
        "age=28\n",
        "address=\"kalanki\"\n",
        "print(f\"Hello my name is {name}, i live in {address} and i am {age} years old\")\n"
      ],
      "metadata": {
        "colab": {
          "base_uri": "https://localhost:8080/"
        },
        "id": "CuyiJUJjdyBc",
        "outputId": "01491a1e-2c13-48f9-cd30-31781d88630b"
      },
      "execution_count": null,
      "outputs": [
        {
          "output_type": "stream",
          "name": "stdout",
          "text": [
            "Hello my name is reban, i live in kalanki and i am 28 years old\n"
          ]
        }
      ]
    },
    {
      "cell_type": "code",
      "source": [
        "import datetime\n",
        "today=datetime.datetime.today()\n",
        "print(f\"{today:%B %d, %Y}\")"
      ],
      "metadata": {
        "colab": {
          "base_uri": "https://localhost:8080/"
        },
        "id": "LJpu9pxUfL22",
        "outputId": "b699b48b-365a-4775-938f-10ec0555a561"
      },
      "execution_count": null,
      "outputs": [
        {
          "output_type": "stream",
          "name": "stdout",
          "text": [
            "April 24, 2022\n"
          ]
        }
      ]
    },
    {
      "cell_type": "markdown",
      "source": [
        "## Booleans in Python"
      ],
      "metadata": {
        "id": "g2tabdxkftvA"
      }
    },
    {
      "cell_type": "code",
      "source": [
        "x=\"Hello\"\n",
        "y=15\n",
        "print(bool(x))"
      ],
      "metadata": {
        "colab": {
          "base_uri": "https://localhost:8080/"
        },
        "id": "wH0g0F8IfRz8",
        "outputId": "60f8098f-5099-48c2-b9d4-735968b3c875"
      },
      "execution_count": null,
      "outputs": [
        {
          "output_type": "stream",
          "name": "stdout",
          "text": [
            "True\n"
          ]
        }
      ]
    },
    {
      "cell_type": "markdown",
      "source": [
        "## [Operators in Python](https://www.w3schools.com/python/python_operators.asp)"
      ],
      "metadata": {
        "id": "LvL2sNX3gHCt"
      }
    },
    {
      "cell_type": "markdown",
      "source": [
        "Python divides the operators in the following groups:\n",
        "\n",
        "- Arithmetic operators\n",
        "- Assignment operators\n",
        "- Comparison operators\n",
        "- Logical operators\n",
        "- Identity operators\n",
        "- Membership operators\n",
        "- Bitwise operators"
      ],
      "metadata": {
        "id": "ubAfpcVegNMj"
      }
    },
    {
      "cell_type": "markdown",
      "source": [
        " ```is opeartor```  if both the variable have same value it will return true if both the variables are the same object. it is identity operator"
      ],
      "metadata": {
        "id": "wRn45Oi5hJ1u"
      }
    },
    {
      "cell_type": "code",
      "source": [
        "x=[\"apple\",\"banana\",\"cat\"]\n",
        "y=[\"apple\",\"banana\",\"cat\"]\n",
        "z=x\n",
        "print(x is z)\n",
        "print(x is y)\n",
        "print(x==y)"
      ],
      "metadata": {
        "colab": {
          "base_uri": "https://localhost:8080/"
        },
        "id": "Q9YzFEAHf4vk",
        "outputId": "8ae33de8-073f-49b2-dd51-b5d5b9823ad5"
      },
      "execution_count": null,
      "outputs": [
        {
          "output_type": "stream",
          "name": "stdout",
          "text": [
            "True\n",
            "False\n",
            "True\n"
          ]
        }
      ]
    },
    {
      "cell_type": "code",
      "source": [
        "# isnot\n",
        "x=[\"apple\",\"banana\",\"cat\"]\n",
        "y=[\"apple\",\"banana\",\"cat\"]\n",
        "z=x\n",
        "print(x is not  z)\n",
        "print(x is not y)\n",
        "print(x!=y)"
      ],
      "metadata": {
        "colab": {
          "base_uri": "https://localhost:8080/"
        },
        "id": "_9qN9yDAhHnR",
        "outputId": "221c2223-8567-4b9f-964d-68a6628cd403"
      },
      "execution_count": null,
      "outputs": [
        {
          "output_type": "stream",
          "name": "stdout",
          "text": [
            "False\n",
            "True\n",
            "False\n"
          ]
        }
      ]
    },
    {
      "cell_type": "markdown",
      "source": [
        "## Python List\n",
        "Lists are used to store multiple items in a single variable.\n",
        "\n",
        "Lists are one of 4 built-in data types (data formatting) in Python used to store collections of data, the other 3 are Tuple, Set, and Dictionary, all with different qualities and usage.\n",
        "\n",
        "Lists are created using square brackets:"
      ],
      "metadata": {
        "id": "P5lztEnNQXgG"
      }
    },
    {
      "cell_type": "code",
      "source": [
        "my_list=[\"apple\",\"ball\",\"cat\"]\n",
        "my_list"
      ],
      "metadata": {
        "id": "s5R64JuaiBIl",
        "colab": {
          "base_uri": "https://localhost:8080/"
        },
        "outputId": "24b7f236-0293-4e98-daf2-74c252fe4b66"
      },
      "execution_count": null,
      "outputs": [
        {
          "output_type": "execute_result",
          "data": {
            "text/plain": [
              "['apple', 'ball', 'cat']"
            ]
          },
          "metadata": {},
          "execution_count": 5
        }
      ]
    },
    {
      "cell_type": "markdown",
      "source": [
        "- List Items\n",
        "List items are ordered, changeable, and allow duplicate values.\n",
        "\n",
        "- List items are indexed, the first item has index [0], the second item has index [1] etc.\n",
        "\n",
        "- Ordered\n",
        "When we say that lists are ordered, it means that the items have a defined order, and that order will not change.\n",
        "\n",
        "If you add new items to a list, the new items will be placed at the end of the list.\n",
        "\n",
        "Changeable mutable\n",
        "The list is changeable, meaning that we can change, add, and remove items in a list after it has been created.\n",
        "\n",
        "Allow Duplicates\n",
        "Since lists are indexed, lists can have items with the same value:"
      ],
      "metadata": {
        "id": "zn2KO6QkQxRE"
      }
    },
    {
      "cell_type": "markdown",
      "source": [
        "[list Methods](https://www.w3schools.com/python/python_lists_methods.asp) "
      ],
      "metadata": {
        "id": "Swj9_zmGRlTF"
      }
    },
    {
      "cell_type": "code",
      "source": [
        "#append() : adds element at the end of the list\n",
        "fruits=[\"apple\",\"ball\",\"cat\"]\n",
        "fruits.append(\"dog\")\n",
        "fruits"
      ],
      "metadata": {
        "colab": {
          "base_uri": "https://localhost:8080/"
        },
        "id": "P_vP6SfOQtqG",
        "outputId": "19c7118c-9196-4731-a8ea-f358c2ea2f8a"
      },
      "execution_count": null,
      "outputs": [
        {
          "output_type": "execute_result",
          "data": {
            "text/plain": [
              "['apple', 'ball', 'cat', 'dog']"
            ]
          },
          "metadata": {},
          "execution_count": 7
        }
      ]
    },
    {
      "cell_type": "code",
      "source": [
        "a=[\"apple\",\"ball\",\"cat\"]\n",
        "b=[\"bike\",\"car\",\"cycle\"]\n",
        "a.append(b)\n",
        "a"
      ],
      "metadata": {
        "colab": {
          "base_uri": "https://localhost:8080/"
        },
        "id": "ah8auLJVR1XU",
        "outputId": "abb41c58-c5d9-4434-858b-809b3eb59e9f"
      },
      "execution_count": null,
      "outputs": [
        {
          "output_type": "execute_result",
          "data": {
            "text/plain": [
              "['apple', 'ball', 'cat', ['bike', 'car', 'cycle']]"
            ]
          },
          "metadata": {},
          "execution_count": 9
        }
      ]
    },
    {
      "cell_type": "code",
      "source": [
        "#clear() remove all the elements from the list\n",
        "a=[\"apple\",\"ball\",\"cat\"]\n",
        "a.clear()\n",
        "a"
      ],
      "metadata": {
        "colab": {
          "base_uri": "https://localhost:8080/"
        },
        "id": "g1_4dKDQSIXE",
        "outputId": "73f8bced-cacd-49ea-acfa-0ba8d5577947"
      },
      "execution_count": null,
      "outputs": [
        {
          "output_type": "execute_result",
          "data": {
            "text/plain": [
              "[]"
            ]
          },
          "metadata": {},
          "execution_count": 10
        }
      ]
    },
    {
      "cell_type": "code",
      "source": [
        "#copy() copy the list\n",
        "a=[\"apple\",\"ball\",\"cat\"]\n",
        "x=a.copy()\n",
        "x"
      ],
      "metadata": {
        "colab": {
          "base_uri": "https://localhost:8080/"
        },
        "id": "ns0ZxtUeSaJs",
        "outputId": "056a370b-1996-4b0a-adbc-223813ead494"
      },
      "execution_count": null,
      "outputs": [
        {
          "output_type": "execute_result",
          "data": {
            "text/plain": [
              "['apple', 'ball', 'cat']"
            ]
          },
          "metadata": {},
          "execution_count": 12
        }
      ]
    },
    {
      "cell_type": "code",
      "source": [
        "#count() counts the number of times a value \"apple\" appears in the list\n",
        "a=[\"apple\",\"ball\",\"cat\"]\n",
        "a.count(\"apple\")\n"
      ],
      "metadata": {
        "colab": {
          "base_uri": "https://localhost:8080/"
        },
        "id": "g9r8yEMBSlRM",
        "outputId": "bf78b9a3-5adf-428a-f388-949eba176f16"
      },
      "execution_count": null,
      "outputs": [
        {
          "output_type": "execute_result",
          "data": {
            "text/plain": [
              "1"
            ]
          },
          "metadata": {},
          "execution_count": 13
        }
      ]
    },
    {
      "cell_type": "code",
      "source": [
        "points = [1, 4, 2, 9, 7, 8, 9, 3, 1]\n",
        "points.count(9)"
      ],
      "metadata": {
        "colab": {
          "base_uri": "https://localhost:8080/"
        },
        "id": "An1QKiWaS81R",
        "outputId": "650082e4-7016-4bfd-fc99-57cfd9d43ffe"
      },
      "execution_count": null,
      "outputs": [
        {
          "output_type": "execute_result",
          "data": {
            "text/plain": [
              "2"
            ]
          },
          "metadata": {},
          "execution_count": 14
        }
      ]
    },
    {
      "cell_type": "code",
      "source": [
        "#extend() method adds the specified list elements (or any iterable) to the end of the current list\n",
        "\n",
        "#add the elements of the cars in the fruits \n",
        "\n",
        "#append() le [] pani aaucha but extend le aaudaina\n",
        "fruits = ['apple', 'banana', 'cherry']\n",
        "\n",
        "cars = ['Ford', 'BMW', 'Volvo']\n",
        "\n",
        "fruits.extend(cars)\n",
        "fruits"
      ],
      "metadata": {
        "colab": {
          "base_uri": "https://localhost:8080/"
        },
        "id": "8Nt_rsrnTGJ7",
        "outputId": "cfaec807-431a-4300-c924-ad8889f6938b"
      },
      "execution_count": null,
      "outputs": [
        {
          "output_type": "execute_result",
          "data": {
            "text/plain": [
              "['apple', 'banana', 'cherry', 'Ford', 'BMW', 'Volvo']"
            ]
          },
          "metadata": {},
          "execution_count": 18
        }
      ]
    },
    {
      "cell_type": "code",
      "source": [
        "#tuples can also be added to the list using extend()\n",
        "fruits = ['apple', 'banana', 'cherry']#list\n",
        "\n",
        "points = (1, 4, 5, 9) #tuple\n",
        "\n",
        "fruits.extend(points)\n",
        "fruits"
      ],
      "metadata": {
        "colab": {
          "base_uri": "https://localhost:8080/"
        },
        "id": "4pY5jYJmTVpl",
        "outputId": "f6041849-8319-478a-89c7-0a6bb2cded57"
      },
      "execution_count": null,
      "outputs": [
        {
          "output_type": "execute_result",
          "data": {
            "text/plain": [
              "['apple', 'banana', 'cherry', 1, 4, 5, 9]"
            ]
          },
          "metadata": {},
          "execution_count": 19
        }
      ]
    },
    {
      "cell_type": "code",
      "source": [
        "#index() : What is the position of the value \"cherry\n",
        "fruits = ['apple', 'banana', 'cherry']\n",
        "fruits.index(\"cherry\")"
      ],
      "metadata": {
        "colab": {
          "base_uri": "https://localhost:8080/"
        },
        "id": "VFSKi047Tux8",
        "outputId": "e08331d9-5866-47b1-a784-3b2e796459c7"
      },
      "execution_count": null,
      "outputs": [
        {
          "output_type": "execute_result",
          "data": {
            "text/plain": [
              "2"
            ]
          },
          "metadata": {},
          "execution_count": 21
        }
      ]
    },
    {
      "cell_type": "code",
      "source": [
        "fruits = [4, 55, 64, 32, 16, 32]\n",
        "fruits.index(32)"
      ],
      "metadata": {
        "colab": {
          "base_uri": "https://localhost:8080/"
        },
        "id": "yJQNEGHcT-TD",
        "outputId": "31b3379c-c649-4f76-d05f-5ab9f4dcc68e"
      },
      "execution_count": null,
      "outputs": [
        {
          "output_type": "execute_result",
          "data": {
            "text/plain": [
              "3"
            ]
          },
          "metadata": {},
          "execution_count": 22
        }
      ]
    },
    {
      "cell_type": "code",
      "source": [
        "#The insert(pos,element) method inserts the specified value at the specified position.\n",
        "list=[1,2,3,4,5]\n",
        "list.insert(2,8)\n",
        "list\n"
      ],
      "metadata": {
        "colab": {
          "base_uri": "https://localhost:8080/"
        },
        "id": "lJS3ILLvUH9L",
        "outputId": "ce562546-bf55-44c4-a563-0cfa96a26d26"
      },
      "execution_count": null,
      "outputs": [
        {
          "output_type": "execute_result",
          "data": {
            "text/plain": [
              "[1, 2, 8, 3, 4, 5]"
            ]
          },
          "metadata": {},
          "execution_count": 23
        }
      ]
    },
    {
      "cell_type": "code",
      "source": [
        "a=[\"reban\",\"aryal\",\"kalanki\",\"kathmandu\"]\n",
        "a.append(\"nepal\")\n",
        "a\n",
        "a.insert(0,\"nepal\")\n",
        "a"
      ],
      "metadata": {
        "colab": {
          "base_uri": "https://localhost:8080/"
        },
        "id": "7Y5vyPRcUa9E",
        "outputId": "338bbbd6-fb36-4eb8-f7d1-5d4e6052e63b"
      },
      "execution_count": null,
      "outputs": [
        {
          "output_type": "execute_result",
          "data": {
            "text/plain": [
              "['nepal', 'reban', 'aryal', 'kalanki', 'kathmandu', 'nepal']"
            ]
          },
          "metadata": {},
          "execution_count": 25
        }
      ]
    },
    {
      "cell_type": "code",
      "source": [
        "#The pop() method removes the element at the specified position.\n",
        "a=[1,2,3,4,54]\n",
        "a.pop(0)\n",
        "a"
      ],
      "metadata": {
        "colab": {
          "base_uri": "https://localhost:8080/"
        },
        "id": "yj-9wo7OUlBa",
        "outputId": "550cee29-3ad2-481e-9dc0-27d1cd36a086"
      },
      "execution_count": null,
      "outputs": [
        {
          "output_type": "execute_result",
          "data": {
            "text/plain": [
              "[2, 3, 4, 54]"
            ]
          },
          "metadata": {},
          "execution_count": 26
        }
      ]
    },
    {
      "cell_type": "code",
      "source": [
        "#replace 54 by b\n",
        "a=[1,2,3,4,54]\n",
        "a[4]=\"b\"\n",
        "a"
      ],
      "metadata": {
        "colab": {
          "base_uri": "https://localhost:8080/"
        },
        "id": "DLjWewlQU-oe",
        "outputId": "3359dfec-3977-4a8e-b358-593c9ef5423f"
      },
      "execution_count": null,
      "outputs": [
        {
          "output_type": "execute_result",
          "data": {
            "text/plain": [
              "[1, 2, 3, 4, 'b']"
            ]
          },
          "metadata": {},
          "execution_count": 28
        }
      ]
    },
    {
      "cell_type": "code",
      "source": [
        "a=\"reban is the name\"\n",
        "b=a.replace(\"reban\",\"tree\")\n",
        "b"
      ],
      "metadata": {
        "colab": {
          "base_uri": "https://localhost:8080/",
          "height": 35
        },
        "id": "ddDuTr0AVLhr",
        "outputId": "d491d83d-de94-4567-fcc8-2de1d7277640"
      },
      "execution_count": null,
      "outputs": [
        {
          "output_type": "execute_result",
          "data": {
            "text/plain": [
              "'tree is the name'"
            ],
            "application/vnd.google.colaboratory.intrinsic+json": {
              "type": "string"
            }
          },
          "metadata": {},
          "execution_count": 34
        }
      ]
    },
    {
      "cell_type": "code",
      "source": [
        "#list replace function is not present...only string can be possible\n",
        "\n",
        "a=[\"a\",\"b\",\"c\",\"d\"]\n",
        "a[2]=\"ram\"\n",
        "a"
      ],
      "metadata": {
        "colab": {
          "base_uri": "https://localhost:8080/"
        },
        "id": "MpX0msefVewr",
        "outputId": "075529a5-88c3-46df-c067-b9f8977db4fb"
      },
      "execution_count": null,
      "outputs": [
        {
          "output_type": "execute_result",
          "data": {
            "text/plain": [
              "['a', 'b', 'ram', 'd']"
            ]
          },
          "metadata": {},
          "execution_count": 35
        }
      ]
    },
    {
      "cell_type": "code",
      "source": [
        "#reverse:Reverse the order of the fruit list:\n",
        "fruits = ['apple', 'banana', 'cherry']\n",
        "fruits.reverse()\n",
        "fruits"
      ],
      "metadata": {
        "colab": {
          "base_uri": "https://localhost:8080/"
        },
        "id": "OxtpZX5GWT1L",
        "outputId": "6ffe50ff-c6b1-4731-beec-6a12f7886df3"
      },
      "execution_count": null,
      "outputs": [
        {
          "output_type": "execute_result",
          "data": {
            "text/plain": [
              "['cherry', 'banana', 'apple']"
            ]
          },
          "metadata": {},
          "execution_count": 37
        }
      ]
    },
    {
      "cell_type": "code",
      "source": [
        "fruits = ['apple', 'banana', 'cherry']\n",
        "b=fruits.copy()\n",
        "b"
      ],
      "metadata": {
        "colab": {
          "base_uri": "https://localhost:8080/"
        },
        "id": "QEvu_fH2WgCw",
        "outputId": "c99c014b-05a8-494e-c8cc-a0eb12fe7eb2"
      },
      "execution_count": null,
      "outputs": [
        {
          "output_type": "execute_result",
          "data": {
            "text/plain": [
              "['apple', 'banana', 'cherry']"
            ]
          },
          "metadata": {},
          "execution_count": 38
        }
      ]
    },
    {
      "cell_type": "code",
      "source": [
        "#Sort the list alphabetically:\n",
        "cars = ['Ford', 'BMW', 'Volvo']\n",
        "cars.sort()\n",
        "cars"
      ],
      "metadata": {
        "colab": {
          "base_uri": "https://localhost:8080/"
        },
        "id": "NfdODJHaWq1z",
        "outputId": "9543f5ab-b109-41f1-e04f-b7ca8528bc38"
      },
      "execution_count": null,
      "outputs": [
        {
          "output_type": "execute_result",
          "data": {
            "text/plain": [
              "['BMW', 'Ford', 'Volvo']"
            ]
          },
          "metadata": {},
          "execution_count": 40
        }
      ]
    },
    {
      "cell_type": "code",
      "source": [
        "cars = ['Ford', 'BMW', 'Volvo']\n",
        "\n",
        "cars.sort(reverse=True)\n",
        "cars"
      ],
      "metadata": {
        "colab": {
          "base_uri": "https://localhost:8080/"
        },
        "id": "vXe-T1wUWyGq",
        "outputId": "77a37272-5675-4e99-c8cc-d509d22c4f0b"
      },
      "execution_count": null,
      "outputs": [
        {
          "output_type": "execute_result",
          "data": {
            "text/plain": [
              "['Volvo', 'Ford', 'BMW']"
            ]
          },
          "metadata": {},
          "execution_count": 43
        }
      ]
    },
    {
      "cell_type": "code",
      "source": [
        "#sort the list by the length of the value\n",
        "\n",
        "def mylen(e):\n",
        "    return(len(e))\n",
        "\n",
        "cars=[\"ford\",\"honda\", \"BMW\",\"vw\",\"hyundai\"]\n",
        "cars.sort(key=mylen)\n",
        "cars"
      ],
      "metadata": {
        "colab": {
          "base_uri": "https://localhost:8080/"
        },
        "id": "-lSaM3bSW5Cy",
        "outputId": "586c906e-749a-4200-faa6-215308f50997"
      },
      "execution_count": null,
      "outputs": [
        {
          "output_type": "execute_result",
          "data": {
            "text/plain": [
              "['vw', 'BMW', 'ford', 'honda', 'hyundai']"
            ]
          },
          "metadata": {},
          "execution_count": 45
        }
      ]
    },
    {
      "cell_type": "code",
      "source": [
        "#sort the list by the name of the values and reversed\n",
        "\n",
        "def lenval(e):\n",
        "  return len(e)\n",
        "\n",
        "app= ['Ford', 'Mitsubishi', 'BMW', 'VW']\n",
        "app.sort(reverse=True,key=lenval)\n",
        "print(app) \n"
      ],
      "metadata": {
        "colab": {
          "base_uri": "https://localhost:8080/"
        },
        "id": "xpGOJB_wXULK",
        "outputId": "a70cc80b-ec33-4e72-ad4b-0f4c5b126332"
      },
      "execution_count": null,
      "outputs": [
        {
          "output_type": "stream",
          "name": "stdout",
          "text": [
            "['Mitsubishi', 'Ford', 'BMW', 'VW']\n"
          ]
        }
      ]
    },
    {
      "cell_type": "markdown",
      "source": [
        "Python Collections (Arrays)\n",
        "There are four collection data types in the Python programming language:\n",
        "\n",
        "- List is a collection which is ordered and changeable. Allows duplicate members.\n",
        "- Tuple is a collection which is ordered and unchangeable. Allows duplicate members.\n",
        "- Set is a collection which is unordered, unchangeable*, and unindexed. No duplicate members.\n",
        "- Dictionary is a collection which is ordered** and changeable. No duplicate members."
      ],
      "metadata": {
        "id": "c38gTis8Zfzy"
      }
    },
    {
      "cell_type": "markdown",
      "source": [
        "## Python Dictionary"
      ],
      "metadata": {
        "id": "OVCbD6PjaD7j"
      }
    },
    {
      "cell_type": "markdown",
      "source": [
        "Dictionary is a collection which is ordered** and changeable. No duplicate members. [Methods](https://www.w3schools.com/python/python_ref_dictionary.asp)"
      ],
      "metadata": {
        "id": "nB4-ZAy2aI7K"
      }
    },
    {
      "cell_type": "code",
      "source": [
        "#Dictionary\n",
        "#clear() : The clear() method removes all the elements from a dictionary.\n",
        "car = {\n",
        "  \"brand\": \"Ford\",\n",
        "  \"model\": \"Mustang\",\n",
        "  \"year\": 1964\n",
        "}\n",
        "car.clear()\n",
        "car"
      ],
      "metadata": {
        "colab": {
          "base_uri": "https://localhost:8080/"
        },
        "id": "fBbY4dCrYEpi",
        "outputId": "28b631de-9cc9-4de9-e761-a6d8711114f9"
      },
      "execution_count": null,
      "outputs": [
        {
          "output_type": "execute_result",
          "data": {
            "text/plain": [
              "{}"
            ]
          },
          "metadata": {},
          "execution_count": 53
        }
      ]
    },
    {
      "cell_type": "code",
      "source": [
        "#The copy() method returns a copy of the specified dictionary.\n",
        "car={\n",
        "    \"brand\":\"Honda\",\n",
        "     \"model\":\"mustang\",\n",
        "     \"year\":\"1998\"\n",
        "}\n",
        "x=car.copy()\n",
        "x"
      ],
      "metadata": {
        "colab": {
          "base_uri": "https://localhost:8080/"
        },
        "id": "V9dTr6lSZ-9q",
        "outputId": "ebec2abf-e37f-4753-d2da-0a7e7eee2dc7"
      },
      "execution_count": null,
      "outputs": [
        {
          "output_type": "execute_result",
          "data": {
            "text/plain": [
              "{'brand': 'Honda', 'model': 'mustang', 'year': '1998'}"
            ]
          },
          "metadata": {},
          "execution_count": 54
        }
      ]
    },
    {
      "cell_type": "code",
      "source": [
        "#The fromkeys() method returns a dictionary with the specified keys and the specified value.\n",
        "#create a dictionary with 3 keys with 0 values\n",
        "\n",
        "#dict.fromkeys(keys, value)\n",
        "x = ('key1', 'key2', 'key3')\n",
        "\n",
        "y = 2\n",
        "thisdict=dict.fromkeys(x,y)\n",
        "print(thisdict)"
      ],
      "metadata": {
        "colab": {
          "base_uri": "https://localhost:8080/"
        },
        "id": "G149RDp0akGy",
        "outputId": "99484bbc-0cd6-46b3-eb80-78007c31ec50"
      },
      "execution_count": null,
      "outputs": [
        {
          "output_type": "stream",
          "name": "stdout",
          "text": [
            "{'key1': 2, 'key2': 2, 'key3': 2}\n"
          ]
        }
      ]
    },
    {
      "cell_type": "code",
      "source": [
        "#Same example as above, but without specifying the value:\n",
        "x=(\"key1\",\"key2\",\"key3\")\n",
        "thisdict=dict.fromkeys(x)\n",
        "thisdict"
      ],
      "metadata": {
        "colab": {
          "base_uri": "https://localhost:8080/"
        },
        "id": "fBwgdNica8Yi",
        "outputId": "cf3f4855-f4ed-44c4-8f37-0205fefe4867"
      },
      "execution_count": null,
      "outputs": [
        {
          "output_type": "execute_result",
          "data": {
            "text/plain": [
              "{'key1': None, 'key2': None, 'key3': None}"
            ]
          },
          "metadata": {},
          "execution_count": 56
        }
      ]
    },
    {
      "cell_type": "code",
      "source": [
        "#The get() method returns the value of the item with the specified key.\n",
        "# dictionary.get(keyname, value)\n",
        "\n",
        "car={\n",
        "    \"brand\":\"suzuki\",\n",
        "     \"year\":\"1990\",\n",
        "     \"model\":\"hiace\"\n",
        "}\n",
        "\n",
        "x=car.get(\"brand\")\n",
        "x"
      ],
      "metadata": {
        "colab": {
          "base_uri": "https://localhost:8080/",
          "height": 35
        },
        "id": "Jj0oN7MZbR6C",
        "outputId": "570cc91d-81a4-42a5-faaf-5c2be0996f45"
      },
      "execution_count": null,
      "outputs": [
        {
          "output_type": "execute_result",
          "data": {
            "text/plain": [
              "'suzuki'"
            ],
            "application/vnd.google.colaboratory.intrinsic+json": {
              "type": "string"
            }
          },
          "metadata": {},
          "execution_count": 58
        }
      ]
    },
    {
      "cell_type": "code",
      "source": [
        "# to return the value of an item that do not exist:\n",
        "\n",
        "car={\n",
        "    \"brand\":\"honda\",\n",
        "     \"year\":\"1950\",\n",
        "     \"model\":\"mustang\"\n",
        "}\n",
        "\n",
        "x=car.get(\"price\",10)\n",
        "print(x)"
      ],
      "metadata": {
        "colab": {
          "base_uri": "https://localhost:8080/"
        },
        "id": "g_viEo07bvQ5",
        "outputId": "400838fb-b1e0-4403-aa27-f09c61fd88e9"
      },
      "execution_count": null,
      "outputs": [
        {
          "output_type": "stream",
          "name": "stdout",
          "text": [
            "10\n"
          ]
        }
      ]
    },
    {
      "cell_type": "code",
      "source": [
        "#The items() method returns a view object. The view object contains the key-value pairs of the dictionary, as tuples in a list.\n",
        "car = {\n",
        "  \"brand\": \"Ford\",\n",
        "  \"model\": \"Mustang\",\n",
        "  \"year\": 1964\n",
        "}\n",
        "x=car.items()\n",
        "x"
      ],
      "metadata": {
        "colab": {
          "base_uri": "https://localhost:8080/"
        },
        "id": "3cD7MaIXcKHK",
        "outputId": "1ea60b42-124c-4f2a-8003-d6d46876f933"
      },
      "execution_count": null,
      "outputs": [
        {
          "output_type": "execute_result",
          "data": {
            "text/plain": [
              "dict_items([('brand', 'Ford'), ('model', 'Mustang'), ('year', 1964)])"
            ]
          },
          "metadata": {},
          "execution_count": 63
        }
      ]
    },
    {
      "cell_type": "code",
      "source": [
        "car = {\n",
        "  \"brand\": \"Ford\",\n",
        "  \"model\": \"Mustang\",\n",
        "  \"year\": 1964\n",
        "}\n",
        "car[\"brand\"]=\"honda\"\n",
        "print(car)"
      ],
      "metadata": {
        "colab": {
          "base_uri": "https://localhost:8080/"
        },
        "id": "jGKbFxFIckTJ",
        "outputId": "69f5c8bc-a6e6-46e8-a281-97dfdc855f87"
      },
      "execution_count": null,
      "outputs": [
        {
          "output_type": "stream",
          "name": "stdout",
          "text": [
            "{'brand': 'honda', 'model': 'Mustang', 'year': 1964}\n"
          ]
        }
      ]
    },
    {
      "cell_type": "code",
      "source": [
        "# The keys() method returns a view object. The view object contains the keys of the dictionary, as a list.\n",
        "# dictionary.keys()\n",
        "\n",
        "car={\n",
        "    \"brand\":\"honda\",\n",
        "     \"model\":\"city\",\n",
        "     \"year\":\"1985\"\n",
        "}\n",
        "p=car.keys()\n",
        "car[\"price\"]=\"1lakhs\"\n",
        "print(p)\n",
        "print(car)\n"
      ],
      "metadata": {
        "colab": {
          "base_uri": "https://localhost:8080/"
        },
        "id": "W5dT6Z_5c4EB",
        "outputId": "a092fd70-8bd0-4c08-9b7a-271ae529c27e"
      },
      "execution_count": null,
      "outputs": [
        {
          "output_type": "stream",
          "name": "stdout",
          "text": [
            "dict_keys(['brand', 'model', 'year', 'price'])\n",
            "{'brand': 'honda', 'model': 'city', 'year': '1985', 'price': '1lakhs'}\n"
          ]
        }
      ]
    },
    {
      "cell_type": "code",
      "source": [
        "# The pop() method removes the specified item from the dictionary.\n",
        "#dictionary.pop(keyname, defaultvalue)\n",
        "\n",
        "person={\n",
        "    \"name\":\"reban\",\n",
        "    \"age\":\"28\",\n",
        "    \"cast\":\"aryal\"\n",
        "}\n",
        "\n",
        "person.pop(\"name\")\n",
        "print(person)"
      ],
      "metadata": {
        "colab": {
          "base_uri": "https://localhost:8080/"
        },
        "id": "aRVak0BqdTQZ",
        "outputId": "1c657235-0c3a-4ac7-8260-32da9166b438"
      },
      "execution_count": null,
      "outputs": [
        {
          "output_type": "stream",
          "name": "stdout",
          "text": [
            "{'age': '28', 'cast': 'aryal'}\n"
          ]
        }
      ]
    },
    {
      "cell_type": "code",
      "source": [
        "#pop_items Remove the last item from the dictionary:\n",
        "car = {\n",
        "  \"brand\": \"Ford\",\n",
        "  \"model\": \"Mustang\",\n",
        "  \"year\": 1964\n",
        "}\n",
        "car.popitem()\n",
        "print(car)"
      ],
      "metadata": {
        "colab": {
          "base_uri": "https://localhost:8080/"
        },
        "id": "yp8ofOIweo4R",
        "outputId": "b35beb7b-a5b8-4214-f5b1-c4294ac7df2d"
      },
      "execution_count": null,
      "outputs": [
        {
          "output_type": "stream",
          "name": "stdout",
          "text": [
            "{'brand': 'Ford', 'model': 'Mustang'}\n"
          ]
        }
      ]
    },
    {
      "cell_type": "code",
      "source": [
        "#The setdefault() method returns the value of the item with the specified key.\n",
        "\n",
        "#If the key does not exist, insert the key, with the specified value\n",
        "\n",
        "#dictionary.setdefault(keyname, value)\n",
        "\n",
        "#Get the value of the \"color\" item, if the \"color\" item does not exist, insert \"color\" with the value \"white\":\n",
        "\n",
        "car={\n",
        "    \"model\":\"honda\",\n",
        "     \"price\":\"1 lakh\",\n",
        "     \"year\":\"1998\"\n",
        "}\n",
        "\n",
        "car.setdefault(\"color\",\"white\")\n",
        "print(car)\n",
        "car.fromkeys()"
      ],
      "metadata": {
        "colab": {
          "base_uri": "https://localhost:8080/"
        },
        "id": "7h_d92Qae-XJ",
        "outputId": "cfe353a1-3ae5-4747-bdd3-2d3f76530788"
      },
      "execution_count": null,
      "outputs": [
        {
          "output_type": "stream",
          "name": "stdout",
          "text": [
            "{'model': 'honda', 'price': '1 lakh', 'year': '1998', 'color': 'white'}\n"
          ]
        }
      ]
    },
    {
      "cell_type": "code",
      "source": [
        "#The update() method inserts the specified items to the dictionary.\n",
        "\n",
        "#The specified items can be a dictionary, or an iterable object with key value pairs.\n",
        "\n",
        "#dictionary.update(iterable)\n",
        "\n",
        "car = {\n",
        "  \"brand\": \"Ford\",\n",
        "  \"model\": \"Mustang\",\n",
        "  \"year\": 1964\n",
        "}\n",
        "\n",
        "car.update({\"color\":\"green\"})\n",
        "print(car)"
      ],
      "metadata": {
        "colab": {
          "base_uri": "https://localhost:8080/"
        },
        "id": "JWe6KjHjfoAY",
        "outputId": "690d0465-4524-4a88-a5e5-9f27cf1e3ffe"
      },
      "execution_count": null,
      "outputs": [
        {
          "output_type": "stream",
          "name": "stdout",
          "text": [
            "{'brand': 'Ford', 'model': 'Mustang', 'year': 1964, 'color': 'green'}\n"
          ]
        }
      ]
    },
    {
      "cell_type": "code",
      "source": [
        "# values() returns a view object. The view object contains the values of the dictionary, as a list.\n",
        "car = {\n",
        "  \"brand\": \"Ford\",\n",
        "  \"model\": \"Mustang\",\n",
        "  \"year\": 1964\n",
        "}\n",
        "car.values()\n"
      ],
      "metadata": {
        "colab": {
          "base_uri": "https://localhost:8080/"
        },
        "id": "tEoGX-_QgaYQ",
        "outputId": "aae15c6f-453a-4ee9-b2a7-1079bff1faf8"
      },
      "execution_count": null,
      "outputs": [
        {
          "output_type": "execute_result",
          "data": {
            "text/plain": [
              "dict_values(['Ford', 'Mustang', 1964])"
            ]
          },
          "metadata": {},
          "execution_count": 79
        }
      ]
    },
    {
      "cell_type": "markdown",
      "source": [
        "## Dictioneries properties"
      ],
      "metadata": {
        "id": "QdceCVgBjpMc"
      }
    },
    {
      "cell_type": "markdown",
      "source": [
        "Dictionaries are used to store data values in key:value pairs.\n",
        "\n",
        "A dictionary is a collection which is ordered*, changeable and do not allow duplicates.\n",
        "\n",
        "As of Python version 3.7, dictionaries are ordered. In Python 3.6 and earlier, dictionaries are unordered.\n",
        "\n",
        "Dictionaries are written with curly brackets, and have keys and values:\n",
        "\n",
        "Duplicates Not Allowed i.e. Dictionaries cannot have two items with the same key:"
      ],
      "metadata": {
        "id": "PQHxAPPljvcf"
      }
    },
    {
      "cell_type": "code",
      "source": [
        "car={\n",
        "    \"brand\":\"honda\",\n",
        "     \"price\":\"50 lakhs\",\n",
        "     \"year\":\"1950\",\n",
        "     \"year\":\"1970\"\n",
        "}\n",
        "print(car)"
      ],
      "metadata": {
        "colab": {
          "base_uri": "https://localhost:8080/"
        },
        "id": "NdDeLGO9glpQ",
        "outputId": "3ad3fdd2-4c73-44ff-e9b5-ed8e8e5a5c9a"
      },
      "execution_count": null,
      "outputs": [
        {
          "output_type": "stream",
          "name": "stdout",
          "text": [
            "{'brand': 'honda', 'price': '50 lakhs', 'year': '1970'}\n"
          ]
        }
      ]
    },
    {
      "cell_type": "code",
      "source": [
        "#dictionary length \n",
        "car={\n",
        "    \"brand\":\"honda\",\n",
        "     \"price\":\"50 lakhs\",\n",
        "     \"year\":\"1950\",\n",
        "     \"year\":\"1970\"\n",
        "}\n",
        "print(len(car))"
      ],
      "metadata": {
        "colab": {
          "base_uri": "https://localhost:8080/"
        },
        "id": "dT1W6mghkV2J",
        "outputId": "02512358-53d4-44b1-e8fe-58b25f2c212e"
      },
      "execution_count": null,
      "outputs": [
        {
          "output_type": "stream",
          "name": "stdout",
          "text": [
            "3\n"
          ]
        }
      ]
    },
    {
      "cell_type": "code",
      "source": [
        "car={\n",
        "    \"brand\":\"honda\",\n",
        "     \"price\":\"50 lakhs\",\n",
        "     \"year\":\"1950\",\n",
        "     \"color\":[\"red\",\"green\",\"white\"]\n",
        "}\n",
        "print(car)\n",
        "print(type(car))"
      ],
      "metadata": {
        "colab": {
          "base_uri": "https://localhost:8080/"
        },
        "id": "EMGnKDOxke1Q",
        "outputId": "70669145-616c-41ea-f0fe-6793b197d443"
      },
      "execution_count": null,
      "outputs": [
        {
          "output_type": "stream",
          "name": "stdout",
          "text": [
            "{'brand': 'honda', 'price': '50 lakhs', 'year': '1950', 'color': ['red', 'green', 'white']}\n",
            "<class 'dict'>\n"
          ]
        }
      ]
    },
    {
      "cell_type": "code",
      "source": [
        "#cehck if the model is present in the dictionary\n",
        "car={\n",
        "    \"model\":\"1999\",\n",
        "     \"brand\":\"nepali\",\n",
        "     \"price\":\"1 lakh\"\n",
        "}\n",
        "\n",
        "if \"model\" in car:\n",
        "  print(\"found\")"
      ],
      "metadata": {
        "colab": {
          "base_uri": "https://localhost:8080/"
        },
        "id": "2OEhyA1ekxk_",
        "outputId": "d25ea32a-7c36-4a64-b969-ea4af61f34c6"
      },
      "execution_count": null,
      "outputs": [
        {
          "output_type": "stream",
          "name": "stdout",
          "text": [
            "found\n"
          ]
        }
      ]
    },
    {
      "cell_type": "code",
      "source": [
        "# change dictionery items\n",
        "thisdict={\n",
        "    \"model\":\"1999\",\n",
        "     \"brand\":\"nepali\",\n",
        "     \"price\":\"1 lakh\"\n",
        "}\n",
        "\n",
        "thisdict[\"model\"]=\"1995\"\n",
        "print(thisdict)"
      ],
      "metadata": {
        "colab": {
          "base_uri": "https://localhost:8080/"
        },
        "id": "XgkzsqPYlUqY",
        "outputId": "d99af934-371f-4bab-dff7-2875c6bee7c5"
      },
      "execution_count": null,
      "outputs": [
        {
          "output_type": "stream",
          "name": "stdout",
          "text": [
            "{'model': '1995', 'brand': 'nepali', 'price': '1 lakh'}\n"
          ]
        }
      ]
    },
    {
      "cell_type": "code",
      "source": [
        "#del keywords removes the item with the specified key name\n",
        "thisdict={\n",
        "    \"model\":\"1999\",\n",
        "     \"brand\":\"nepali\",\n",
        "     \"price\":\"1 lakh\"\n",
        "}\n",
        "del thisdict[\"model\"]\n",
        "print(thisdict)"
      ],
      "metadata": {
        "colab": {
          "base_uri": "https://localhost:8080/"
        },
        "id": "j0299DUqlkjP",
        "outputId": "ed3dae8e-0720-4a3a-bff2-0838e8ddfb65"
      },
      "execution_count": null,
      "outputs": [
        {
          "output_type": "stream",
          "name": "stdout",
          "text": [
            "{'brand': 'nepali', 'price': '1 lakh'}\n"
          ]
        }
      ]
    },
    {
      "cell_type": "markdown",
      "source": [
        "## Loop in Dicitionary"
      ],
      "metadata": {
        "id": "tEk71oYimB17"
      }
    },
    {
      "cell_type": "markdown",
      "source": [
        "You can loop through a dictionary by using a for loop.\n",
        "\n",
        "When looping through a dictionary, the return value are the keys of the dictionary, but there are methods to return the values as well."
      ],
      "metadata": {
        "id": "r1Q9t84tmIJD"
      }
    },
    {
      "cell_type": "code",
      "source": [
        "#Print all key names in the dictionary, one by one:\n",
        "car={\n",
        "    \"name\":\"honda\",\n",
        "     \"model\":\"city\",\n",
        "     \"color\":\"white\",\n",
        "     \"price\":\"1 lakh\"\n",
        "}\n",
        "\n",
        "for i in car:\n",
        "  print(i)"
      ],
      "metadata": {
        "colab": {
          "base_uri": "https://localhost:8080/"
        },
        "id": "kQLgnQW-l8Yo",
        "outputId": "e4d7eecf-85c3-429f-8078-2c23aac6d3b8"
      },
      "execution_count": null,
      "outputs": [
        {
          "output_type": "stream",
          "name": "stdout",
          "text": [
            "name\n",
            "model\n",
            "color\n",
            "price\n"
          ]
        }
      ]
    },
    {
      "cell_type": "code",
      "source": [
        "#Print all values in the dictionary, one by one:\n",
        "car={\n",
        "    \"name\":\"honda\",\n",
        "     \"model\":\"city\",\n",
        "     \"color\":\"white\",\n",
        "     \"price\":\"1 lakh\"\n",
        "}\n",
        "for i in car:\n",
        "  print(car[i])\n"
      ],
      "metadata": {
        "colab": {
          "base_uri": "https://localhost:8080/"
        },
        "id": "KdmUQcwFmHIr",
        "outputId": "602b66b8-9a29-4439-be25-a8e128c1e32f"
      },
      "execution_count": null,
      "outputs": [
        {
          "output_type": "stream",
          "name": "stdout",
          "text": [
            "honda\n",
            "city\n",
            "white\n",
            "1 lakh\n"
          ]
        }
      ]
    },
    {
      "cell_type": "code",
      "source": [
        "#You can also use the values() method to return values of a dictionary:\n",
        "car={\n",
        "    \"name\":\"honda\",\n",
        "     \"model\":\"city\",\n",
        "     \"color\":\"white\",\n",
        "}\n",
        "\n",
        "for i in car.values():\n",
        "  print(i)\n"
      ],
      "metadata": {
        "colab": {
          "base_uri": "https://localhost:8080/"
        },
        "id": "U64b66kwmohv",
        "outputId": "9f14bc6b-ef9d-46cb-82b4-35fd8c191096"
      },
      "execution_count": null,
      "outputs": [
        {
          "output_type": "stream",
          "name": "stdout",
          "text": [
            "honda\n",
            "city\n",
            "white\n"
          ]
        }
      ]
    },
    {
      "cell_type": "code",
      "source": [
        "#You can use the keys() method to return the keys of a dictionary:\n",
        "car={\n",
        "    \"name\":\"honda\",\n",
        "     \"model\":\"city\",\n",
        "     \"color\":\"white\",\n",
        "}\n",
        "for i in car.keys():\n",
        "  print(i)"
      ],
      "metadata": {
        "colab": {
          "base_uri": "https://localhost:8080/"
        },
        "id": "YoYbkZKRnHye",
        "outputId": "7741bf57-ae1b-4d40-b478-5a61648b86d8"
      },
      "execution_count": null,
      "outputs": [
        {
          "output_type": "stream",
          "name": "stdout",
          "text": [
            "name\n",
            "model\n",
            "color\n"
          ]
        }
      ]
    },
    {
      "cell_type": "code",
      "source": [
        "#Loop through both keys and values, by using the items() method:\n",
        "car={\n",
        "    \"name\":\"honda\",\n",
        "     \"model\":\"city\",\n",
        "     \"color\":\"white\",\n",
        "}\n",
        "for i,j in car.items():\n",
        "  print(i,j)"
      ],
      "metadata": {
        "colab": {
          "base_uri": "https://localhost:8080/"
        },
        "id": "7dWW2Z8knUqO",
        "outputId": "81e90281-38ec-4aea-fa06-3c52aeafef69"
      },
      "execution_count": null,
      "outputs": [
        {
          "output_type": "stream",
          "name": "stdout",
          "text": [
            "name honda\n",
            "model city\n",
            "color white\n"
          ]
        }
      ]
    },
    {
      "cell_type": "code",
      "source": [
        "#Create a dictionary that contain three dictionaries\n",
        "myfamily = {\n",
        "  \"child1\" : {\n",
        "    \"name\" : \"Emil\",\n",
        "    \"year\" : 2004\n",
        "  },\n",
        "  \"child2\" : {\n",
        "    \"name\" : \"Tobias\",\n",
        "    \"year\" : 2007\n",
        "  },\n",
        "  \"child3\" : {\n",
        "    \"name\" : \"Linus\",\n",
        "    \"year\" : 2011\n",
        "  }\n",
        "}\n",
        "print(myfamily)"
      ],
      "metadata": {
        "colab": {
          "base_uri": "https://localhost:8080/"
        },
        "id": "Fh4Qfboknhfn",
        "outputId": "8ad0e0e3-b710-4f67-b971-8ad38766f334"
      },
      "execution_count": null,
      "outputs": [
        {
          "output_type": "stream",
          "name": "stdout",
          "text": [
            "{'child1': {'name': 'Emil', 'year': 2004}, 'child2': {'name': 'Tobias', 'year': 2007}, 'child3': {'name': 'Linus', 'year': 2011}}\n"
          ]
        }
      ]
    },
    {
      "cell_type": "code",
      "source": [
        "#if we want to add 3 dict to a new dict\n",
        "c1={\n",
        "    \"name\":\"reban\",\n",
        "    \"age\": \"28\"\n",
        "}\n",
        "\n",
        "c2= {\n",
        "    \"name\":\"rupes\",\n",
        "    \"age\":\"32\"\n",
        "     }\n",
        "\n",
        "c3= {\n",
        "     \"name\" : \"Emil\",\n",
        "    \"age\" : \"35\"\n",
        "  }\n",
        "\n",
        "my_family={\n",
        "    \"child1\":c1,\n",
        "    \"child2\":c2,\n",
        "    \"child3\":c3\n",
        "}\n",
        "\n",
        "print( my_family)"
      ],
      "metadata": {
        "colab": {
          "base_uri": "https://localhost:8080/"
        },
        "id": "Zh1RrToanym_",
        "outputId": "4dc680da-df79-4896-a05b-cd8d51f6957a"
      },
      "execution_count": null,
      "outputs": [
        {
          "output_type": "stream",
          "name": "stdout",
          "text": [
            "{'child1': {'name': 'reban', 'age': '28'}, 'child2': {'name': 'rupes', 'age': '32'}, 'child3': {'name': 'Emil', 'age': '35'}}\n"
          ]
        }
      ]
    },
    {
      "cell_type": "markdown",
      "source": [
        "Exercise:\n",
        "Use the get method to print the value of the \"model\" key of the car dictionary."
      ],
      "metadata": {
        "id": "jqMIqScgovHC"
      }
    },
    {
      "cell_type": "code",
      "source": [
        "car={\n",
        "    \"name\":\"honda\",\n",
        "     \"model\":\"mustang\",\n",
        "     \"price\":\"1 lakh\"\n",
        "}\n",
        "\n",
        "car.get(\"model\")\n"
      ],
      "metadata": {
        "colab": {
          "base_uri": "https://localhost:8080/",
          "height": 35
        },
        "id": "S37akJMxohso",
        "outputId": "c88b3897-83b7-4156-97a6-99c04de5fb73"
      },
      "execution_count": null,
      "outputs": [
        {
          "output_type": "execute_result",
          "data": {
            "text/plain": [
              "'mustang'"
            ],
            "application/vnd.google.colaboratory.intrinsic+json": {
              "type": "string"
            }
          },
          "metadata": {},
          "execution_count": 101
        }
      ]
    },
    {
      "cell_type": "markdown",
      "source": [
        "## Practise Questions on Dictionary"
      ],
      "metadata": {
        "id": "Tsga5Zn_qH7H"
      }
    },
    {
      "cell_type": "code",
      "source": [
        "#Write a Python script to sort (ascending and descending) a dictionary by value\n",
        "import operator\n",
        "d = {1: 2, 3: 4, 4: 3, 2: 1, 0: 0}\n",
        "print('Original dictionary : ',d)\n",
        "sorted_d = sorted(d.items(), key=operator.itemgetter(1))\n",
        "print('Dictionary in ascending order by value : ',sorted_d)\n",
        "sorted_d = dict( sorted(d.items(), key=operator.itemgetter(1),reverse=True))\n",
        "print('Dictionary in descending order by value : ',sorted_d)"
      ],
      "metadata": {
        "colab": {
          "base_uri": "https://localhost:8080/"
        },
        "id": "qs1B6NcSo_OX",
        "outputId": "48108307-1624-427b-96bb-61ab5708923c"
      },
      "execution_count": null,
      "outputs": [
        {
          "output_type": "stream",
          "name": "stdout",
          "text": [
            "Original dictionary :  {1: 2, 3: 4, 4: 3, 2: 1, 0: 0}\n",
            "Dictionary in ascending order by value :  [(0, 0), (2, 1), (1, 2), (4, 3), (3, 4)]\n",
            "Dictionary in descending order by value :  {3: 4, 4: 3, 1: 2, 2: 1, 0: 0}\n"
          ]
        }
      ]
    },
    {
      "cell_type": "code",
      "source": [
        "#2. Write a Python script to add a key to a dictionary. Go to the editor\n",
        "\n",
        "#Sample Dictionary : {0: 10, 1: 20}\n",
        "#Expected Result : {0: 10, 1: 20, 2: 30}\n",
        "\n",
        "s={\n",
        "    0:10,\n",
        "   1:20\n",
        "}\n",
        "\n",
        "s[2]=30\n",
        "print(s)"
      ],
      "metadata": {
        "colab": {
          "base_uri": "https://localhost:8080/"
        },
        "id": "zJwWyc2rqnoo",
        "outputId": "4bdd4ae4-9c73-4777-8bdd-f59ba9ceed9d"
      },
      "execution_count": null,
      "outputs": [
        {
          "output_type": "stream",
          "name": "stdout",
          "text": [
            "{0: 10, 1: 20, 2: 30}\n"
          ]
        }
      ]
    },
    {
      "cell_type": "markdown",
      "source": [
        "Write a Python script to concatenate following dictionaries to create a new one\n",
        "Sample Dictionary :\n",
        "dic1={1:10, 2:20}\n",
        "dic2={3:30, 4:40}\n",
        "dic3={5:50,6:60}\n",
        "Expected Result : {1: 10, 2: 20, 3: 30, 4: 40, 5: 50, 6: 60}"
      ],
      "metadata": {
        "id": "5b_SHg_Or1tZ"
      }
    },
    {
      "cell_type": "code",
      "source": [
        "dic1={1:10,\n",
        "      2:20}\n",
        "\n",
        "dic2={3:30,\n",
        "      4:40}\n",
        "\n",
        "dic3={5:50,\n",
        "      6:60}\n",
        "\n",
        "dic4={}\n",
        "for d in(dic1,dic2,dic3):\n",
        "  dic4.update(d)\n",
        "print(dic4)\n"
      ],
      "metadata": {
        "colab": {
          "base_uri": "https://localhost:8080/"
        },
        "id": "elggltq-r6rO",
        "outputId": "ff81fcf1-dae4-4cfc-dce4-8c9272062d1e"
      },
      "execution_count": null,
      "outputs": [
        {
          "output_type": "stream",
          "name": "stdout",
          "text": [
            "{1: 10, 2: 20, 3: 30, 4: 40, 5: 50, 6: 60}\n"
          ]
        }
      ]
    },
    {
      "cell_type": "code",
      "source": [
        "# Write a Python script to check whether a given key already exists in a dictionary.\n",
        "d={1:2,3:4,5:6}\n",
        "key=7\n",
        "if (key in d):\n",
        "  print(\"yes\")\n",
        "else:\n",
        "  print(\"No\")  "
      ],
      "metadata": {
        "colab": {
          "base_uri": "https://localhost:8080/"
        },
        "id": "g2troE6LsbAG",
        "outputId": "254b5d5d-ac60-45df-8f12-f9ec42972347"
      },
      "execution_count": null,
      "outputs": [
        {
          "output_type": "stream",
          "name": "stdout",
          "text": [
            "No\n"
          ]
        }
      ]
    },
    {
      "cell_type": "code",
      "source": [
        "#Write a Python program to iterate over dictionaries using for loops.\n",
        "dic={1:2,3:4,5:6}\n",
        "for i,j in dic.items():\n",
        "  print(i,j)"
      ],
      "metadata": {
        "colab": {
          "base_uri": "https://localhost:8080/"
        },
        "id": "TibsLJlVtqNm",
        "outputId": "a81b23f9-c014-4a0a-82d4-e984096736df"
      },
      "execution_count": null,
      "outputs": [
        {
          "output_type": "stream",
          "name": "stdout",
          "text": [
            "1 2\n",
            "3 4\n",
            "5 6\n"
          ]
        }
      ]
    },
    {
      "cell_type": "markdown",
      "source": [
        "##tuples"
      ],
      "metadata": {
        "id": "q1e18l5Y3zDR"
      }
    },
    {
      "cell_type": "markdown",
      "source": [
        "Tuples are used to store multiple items in a single variable.\n",
        "\n",
        "Tuple is one of 4 built-in data types in Python used to store collections of data, the other 3 are List, Set, and Dictionary, all with different qualities and usage.\n",
        "\n",
        "A tuple is a collection which is ordered and unchangeable.\n",
        "\n",
        "Tuples are written with round brackets.\n",
        "\n",
        "Tuple items are ordered, unchangeable, and allow duplicate values.\n",
        "\n",
        "One item tuple, remember the comma: ```thistuple=(\"apple\",)```"
      ],
      "metadata": {
        "id": "LoiVKZYE31em"
      }
    },
    {
      "cell_type": "code",
      "source": [
        "tuple=(\"apple\",\"banana\",\"cat\")\n",
        "print(tuple)\n",
        "print(len(tuple))"
      ],
      "metadata": {
        "colab": {
          "base_uri": "https://localhost:8080/"
        },
        "id": "eZe73pXTuHZ-",
        "outputId": "7e414a49-dec3-4168-bb4e-bd21f71b0c27"
      },
      "execution_count": null,
      "outputs": [
        {
          "output_type": "stream",
          "name": "stdout",
          "text": [
            "('apple', 'banana', 'cat')\n",
            "3\n"
          ]
        }
      ]
    },
    {
      "cell_type": "code",
      "source": [
        "thistuple=(\"apple\",)\n",
        "print(type(thistuple))"
      ],
      "metadata": {
        "colab": {
          "base_uri": "https://localhost:8080/"
        },
        "id": "L3bblvux4Ih8",
        "outputId": "b9ab6ee9-9e35-45b4-f4f5-c71b7f8b8dd0"
      },
      "execution_count": null,
      "outputs": [
        {
          "output_type": "stream",
          "name": "stdout",
          "text": [
            "<class 'tuple'>\n"
          ]
        }
      ]
    },
    {
      "cell_type": "code",
      "source": [
        "tup=(1,True,\"hello\")\n",
        "print(tup)"
      ],
      "metadata": {
        "colab": {
          "base_uri": "https://localhost:8080/"
        },
        "id": "TeusyK2r4esd",
        "outputId": "5aa02069-9714-4525-df66-af719d3bdfb2"
      },
      "execution_count": null,
      "outputs": [
        {
          "output_type": "stream",
          "name": "stdout",
          "text": [
            "(1, True, 'hello')\n"
          ]
        }
      ]
    },
    {
      "cell_type": "code",
      "source": [
        "# tuples can be accessed by the index number\n",
        "thisTupple=(\"apple\",\"ball\",3)\n",
        "print(thisTupple[1])"
      ],
      "metadata": {
        "colab": {
          "base_uri": "https://localhost:8080/"
        },
        "id": "_0hToJ3I43cT",
        "outputId": "1d931970-014d-48cf-c4b3-0056d7ae5be7"
      },
      "execution_count": null,
      "outputs": [
        {
          "output_type": "stream",
          "name": "stdout",
          "text": [
            "ball\n"
          ]
        }
      ]
    },
    {
      "cell_type": "markdown",
      "source": [
        "tuple can be deleted using del"
      ],
      "metadata": {
        "id": "Y5LdZJWN6lRC"
      }
    },
    {
      "cell_type": "code",
      "source": [
        "thistuple = (\"apple\", \"banana\", \"cherry\")\n",
        "del thistuple\n",
        "\n",
        "\n"
      ],
      "metadata": {
        "id": "XJlKGq6B5KwD"
      },
      "execution_count": null,
      "outputs": []
    },
    {
      "cell_type": "markdown",
      "source": [
        "Set\n",
        "Sets are used to store multiple items in a single variable.\n",
        "\n",
        "Set is one of 4 built-in data types in Python used to store collections of data, the other 3 are List, Tuple, and Dictionary, all with different qualities and usage.\n",
        "\n",
        "A set is a collection which is unordered, unchangeable*, and unindexed."
      ],
      "metadata": {
        "id": "cHqBs6ph7esN"
      }
    },
    {
      "cell_type": "code",
      "source": [
        "thisset={\"apple\",\"ball\"}\n",
        "print(thisset)"
      ],
      "metadata": {
        "colab": {
          "base_uri": "https://localhost:8080/"
        },
        "id": "bXV87fr06xWa",
        "outputId": "6cf14014-3fec-4d81-94b8-306f6a4cb2bb"
      },
      "execution_count": null,
      "outputs": [
        {
          "output_type": "stream",
          "name": "stdout",
          "text": [
            "{'ball', 'apple'}\n"
          ]
        }
      ]
    },
    {
      "cell_type": "markdown",
      "source": [
        "## Function in pythons\n"
      ],
      "metadata": {
        "id": "Z9kNkorl8kiG"
      }
    },
    {
      "cell_type": "markdown",
      "source": [
        "A function is a block of code which only runs when it is called.\n",
        "\n",
        "You can pass data, known as parameters, into a function.\n",
        "\n",
        "A function can return data as a result.\n",
        "\n",
        "Creating a Function\n",
        "In Python a function is defined using the def keyword:"
      ],
      "metadata": {
        "id": "QafCI2SJ8pym"
      }
    },
    {
      "cell_type": "code",
      "source": [
        "def myfunc():\n",
        "  print(\"hello\")\n",
        "\n",
        "myfunc()"
      ],
      "metadata": {
        "colab": {
          "base_uri": "https://localhost:8080/"
        },
        "id": "7aXVtu2a7-bL",
        "outputId": "eec7a809-ffad-4054-b772-cdf42b78f07d"
      },
      "execution_count": null,
      "outputs": [
        {
          "output_type": "stream",
          "name": "stdout",
          "text": [
            "hello\n"
          ]
        }
      ]
    },
    {
      "cell_type": "markdown",
      "source": [
        "Arguments\n",
        "Information can be passed into functions as arguments.\n",
        "\n",
        "Arguments are specified after the function name, inside the parentheses. You can add as many arguments as you want, just separate them with a comma.\n",
        "\n",
        "The following example has a function with one argument (fname). When the function is called, we pass along a first name, which is used inside the function to print the full name:"
      ],
      "metadata": {
        "id": "rc-5aZZd80uK"
      }
    },
    {
      "cell_type": "code",
      "source": [
        "def func(fname):\n",
        "  print(fname + \"dasfdsf\")\n",
        "\n",
        "func(\"reban\")\n",
        "func(\"emil\")\n",
        "func(\"ram\")"
      ],
      "metadata": {
        "colab": {
          "base_uri": "https://localhost:8080/"
        },
        "id": "6CQtKi0T8yEy",
        "outputId": "e43cf076-65b6-4628-fa2a-ec2b37ae20fb"
      },
      "execution_count": null,
      "outputs": [
        {
          "output_type": "stream",
          "name": "stdout",
          "text": [
            "rebandasfdsf\n",
            "emildasfdsf\n",
            "ramdasfdsf\n"
          ]
        }
      ]
    },
    {
      "cell_type": "markdown",
      "source": [
        "Arbitrary Arguments, *args\n",
        "If you do not know how many arguments that will be passed into your function, add a * before the parameter name in the function definition.\n",
        "\n",
        "This way the function will receive a tuple of arguments, and can access the items accordingly:"
      ],
      "metadata": {
        "id": "TYLb5msN9nHM"
      }
    },
    {
      "cell_type": "code",
      "source": [
        "def my_function(*kids):\n",
        "  print(\"The youngest child is \" + kids[2])\n",
        "\n",
        "my_function(\"Emil\", \"Tobias\", \"Linus\")"
      ],
      "metadata": {
        "colab": {
          "base_uri": "https://localhost:8080/"
        },
        "id": "3x1pOSmp9Gr6",
        "outputId": "bda293f7-965f-429d-8617-cd23634ba62e"
      },
      "execution_count": null,
      "outputs": [
        {
          "output_type": "stream",
          "name": "stdout",
          "text": [
            "The youngest child is Linus\n"
          ]
        }
      ]
    },
    {
      "cell_type": "markdown",
      "source": [
        "passing list as an argument"
      ],
      "metadata": {
        "id": "L4h0LCa6-BAy"
      }
    },
    {
      "cell_type": "code",
      "source": [
        "fruits=[\"apple\",\"banana\",\"orange\",\"mango\"]\n",
        "\n",
        "def funct(food):\n",
        "  for i in food:\n",
        "    print(i)\n",
        "\n",
        "funct(fruits)"
      ],
      "metadata": {
        "colab": {
          "base_uri": "https://localhost:8080/"
        },
        "id": "lkGePA9y9wGS",
        "outputId": "f023decc-97ae-42ce-a8ba-7e013aad40eb"
      },
      "execution_count": null,
      "outputs": [
        {
          "output_type": "stream",
          "name": "stdout",
          "text": [
            "apple\n",
            "banana\n",
            "orange\n",
            "mango\n"
          ]
        }
      ]
    },
    {
      "cell_type": "code",
      "source": [
        "x,y=[\"hari\",\"ram\"]\n",
        "print(x,y)"
      ],
      "metadata": {
        "id": "yj-iQ1R2-W5a",
        "colab": {
          "base_uri": "https://localhost:8080/"
        },
        "outputId": "72b91179-d047-46ef-d42a-8228a57eb4bd"
      },
      "execution_count": null,
      "outputs": [
        {
          "output_type": "stream",
          "name": "stdout",
          "text": [
            "hari ram\n"
          ]
        }
      ]
    },
    {
      "cell_type": "code",
      "source": [
        "car={\n",
        "    \"name\":[\"honda\"\n",
        "}\n",
        "\n",
        "\n"
      ],
      "metadata": {
        "id": "p-OQcvbiTw1L"
      },
      "execution_count": null,
      "outputs": []
    }
  ]
}